{
 "cells": [
  {
   "cell_type": "code",
   "execution_count": 1,
   "id": "4cefc5b0",
   "metadata": {
    "_cell_guid": "b1076dfc-b9ad-4769-8c92-a6c4dae69d19",
    "_uuid": "8f2839f25d086af736a60e9eeb907d3b93b6e0e5",
    "execution": {
     "iopub.execute_input": "2024-10-15T08:17:58.685309Z",
     "iopub.status.busy": "2024-10-15T08:17:58.684838Z",
     "iopub.status.idle": "2024-10-15T08:17:59.646063Z",
     "shell.execute_reply": "2024-10-15T08:17:59.644815Z"
    },
    "papermill": {
     "duration": 0.979877,
     "end_time": "2024-10-15T08:17:59.649142",
     "exception": false,
     "start_time": "2024-10-15T08:17:58.669265",
     "status": "completed"
    },
    "tags": []
   },
   "outputs": [
    {
     "name": "stdout",
     "output_type": "stream",
     "text": [
      "/kaggle/input/esophageal-cancer-dataset/Esophageal_Dataset.csv\n"
     ]
    }
   ],
   "source": [
    "import numpy as np \n",
    "import pandas as pd\n",
    "\n",
    "import os\n",
    "for dirname, _, filenames in os.walk('/kaggle/input'):\n",
    "    for filename in filenames:\n",
    "        print(os.path.join(dirname, filename))"
   ]
  },
  {
   "cell_type": "code",
   "execution_count": 2,
   "id": "cc112572",
   "metadata": {
    "execution": {
     "iopub.execute_input": "2024-10-15T08:17:59.675517Z",
     "iopub.status.busy": "2024-10-15T08:17:59.674765Z",
     "iopub.status.idle": "2024-10-15T08:18:15.497249Z",
     "shell.execute_reply": "2024-10-15T08:18:15.495878Z"
    },
    "papermill": {
     "duration": 15.839501,
     "end_time": "2024-10-15T08:18:15.500826",
     "exception": false,
     "start_time": "2024-10-15T08:17:59.661325",
     "status": "completed"
    },
    "tags": []
   },
   "outputs": [
    {
     "name": "stdout",
     "output_type": "stream",
     "text": [
      "Collecting wolta\r\n",
      "  Downloading wolta-0.3.3-py3-none-any.whl.metadata (960 bytes)\r\n",
      "Requirement already satisfied: scikit-learn in /opt/conda/lib/python3.10/site-packages (from wolta) (1.2.2)\r\n",
      "Requirement already satisfied: pandas in /opt/conda/lib/python3.10/site-packages (from wolta) (2.2.3)\r\n",
      "Requirement already satisfied: numpy in /opt/conda/lib/python3.10/site-packages (from wolta) (1.26.4)\r\n",
      "Requirement already satisfied: hyperopt in /opt/conda/lib/python3.10/site-packages (from wolta) (0.2.7)\r\n",
      "Requirement already satisfied: catboost in /opt/conda/lib/python3.10/site-packages (from wolta) (1.2.7)\r\n",
      "Collecting imblearn (from wolta)\r\n",
      "  Downloading imblearn-0.0-py2.py3-none-any.whl.metadata (355 bytes)\r\n",
      "Requirement already satisfied: lightgbm in /opt/conda/lib/python3.10/site-packages (from wolta) (4.2.0)\r\n",
      "Requirement already satisfied: matplotlib in /opt/conda/lib/python3.10/site-packages (from wolta) (3.7.5)\r\n",
      "Requirement already satisfied: opencv-python in /opt/conda/lib/python3.10/site-packages (from wolta) (4.10.0.84)\r\n",
      "Requirement already satisfied: graphviz in /opt/conda/lib/python3.10/site-packages (from catboost->wolta) (0.20.3)\r\n",
      "Requirement already satisfied: scipy in /opt/conda/lib/python3.10/site-packages (from catboost->wolta) (1.14.1)\r\n",
      "Requirement already satisfied: plotly in /opt/conda/lib/python3.10/site-packages (from catboost->wolta) (5.22.0)\r\n",
      "Requirement already satisfied: six in /opt/conda/lib/python3.10/site-packages (from catboost->wolta) (1.16.0)\r\n",
      "Requirement already satisfied: python-dateutil>=2.8.2 in /opt/conda/lib/python3.10/site-packages (from pandas->wolta) (2.9.0.post0)\r\n",
      "Requirement already satisfied: pytz>=2020.1 in /opt/conda/lib/python3.10/site-packages (from pandas->wolta) (2024.1)\r\n",
      "Requirement already satisfied: tzdata>=2022.7 in /opt/conda/lib/python3.10/site-packages (from pandas->wolta) (2024.1)\r\n",
      "Requirement already satisfied: networkx>=2.2 in /opt/conda/lib/python3.10/site-packages (from hyperopt->wolta) (3.3)\r\n",
      "Requirement already satisfied: future in /opt/conda/lib/python3.10/site-packages (from hyperopt->wolta) (1.0.0)\r\n",
      "Requirement already satisfied: tqdm in /opt/conda/lib/python3.10/site-packages (from hyperopt->wolta) (4.66.4)\r\n",
      "Requirement already satisfied: cloudpickle in /opt/conda/lib/python3.10/site-packages (from hyperopt->wolta) (3.0.0)\r\n",
      "Requirement already satisfied: py4j in /opt/conda/lib/python3.10/site-packages (from hyperopt->wolta) (0.10.9.7)\r\n",
      "Requirement already satisfied: imbalanced-learn in /opt/conda/lib/python3.10/site-packages (from imblearn->wolta) (0.12.3)\r\n",
      "Requirement already satisfied: contourpy>=1.0.1 in /opt/conda/lib/python3.10/site-packages (from matplotlib->wolta) (1.2.1)\r\n",
      "Requirement already satisfied: cycler>=0.10 in /opt/conda/lib/python3.10/site-packages (from matplotlib->wolta) (0.12.1)\r\n",
      "Requirement already satisfied: fonttools>=4.22.0 in /opt/conda/lib/python3.10/site-packages (from matplotlib->wolta) (4.53.0)\r\n",
      "Requirement already satisfied: kiwisolver>=1.0.1 in /opt/conda/lib/python3.10/site-packages (from matplotlib->wolta) (1.4.5)\r\n",
      "Requirement already satisfied: packaging>=20.0 in /opt/conda/lib/python3.10/site-packages (from matplotlib->wolta) (21.3)\r\n",
      "Requirement already satisfied: pillow>=6.2.0 in /opt/conda/lib/python3.10/site-packages (from matplotlib->wolta) (10.3.0)\r\n",
      "Requirement already satisfied: pyparsing>=2.3.1 in /opt/conda/lib/python3.10/site-packages (from matplotlib->wolta) (3.1.2)\r\n",
      "Requirement already satisfied: joblib>=1.1.1 in /opt/conda/lib/python3.10/site-packages (from scikit-learn->wolta) (1.4.2)\r\n",
      "Requirement already satisfied: threadpoolctl>=2.0.0 in /opt/conda/lib/python3.10/site-packages (from scikit-learn->wolta) (3.5.0)\r\n",
      "Requirement already satisfied: tenacity>=6.2.0 in /opt/conda/lib/python3.10/site-packages (from plotly->catboost->wolta) (8.3.0)\r\n",
      "Downloading wolta-0.3.3-py3-none-any.whl (16 kB)\r\n",
      "Downloading imblearn-0.0-py2.py3-none-any.whl (1.9 kB)\r\n",
      "Installing collected packages: imblearn, wolta\r\n",
      "Successfully installed imblearn-0.0 wolta-0.3.3\r\n"
     ]
    }
   ],
   "source": [
    "!pip install wolta"
   ]
  },
  {
   "cell_type": "markdown",
   "id": "ff9d342a",
   "metadata": {
    "papermill": {
     "duration": 0.011998,
     "end_time": "2024-10-15T08:18:15.525466",
     "exception": false,
     "start_time": "2024-10-15T08:18:15.513468",
     "status": "completed"
    },
    "tags": []
   },
   "source": [
    "# Data Init"
   ]
  },
  {
   "cell_type": "code",
   "execution_count": 3,
   "id": "68aa2252",
   "metadata": {
    "execution": {
     "iopub.execute_input": "2024-10-15T08:18:15.553506Z",
     "iopub.status.busy": "2024-10-15T08:18:15.553015Z",
     "iopub.status.idle": "2024-10-15T08:18:15.670649Z",
     "shell.execute_reply": "2024-10-15T08:18:15.669559Z"
    },
    "papermill": {
     "duration": 0.134383,
     "end_time": "2024-10-15T08:18:15.673381",
     "exception": false,
     "start_time": "2024-10-15T08:18:15.538998",
     "status": "completed"
    },
    "tags": []
   },
   "outputs": [],
   "source": [
    "df = pd.read_csv('/kaggle/input/esophageal-cancer-dataset/Esophageal_Dataset.csv')"
   ]
  },
  {
   "cell_type": "code",
   "execution_count": 4,
   "id": "acbb9f37",
   "metadata": {
    "execution": {
     "iopub.execute_input": "2024-10-15T08:18:15.699988Z",
     "iopub.status.busy": "2024-10-15T08:18:15.699527Z",
     "iopub.status.idle": "2024-10-15T08:18:15.743473Z",
     "shell.execute_reply": "2024-10-15T08:18:15.742381Z"
    },
    "papermill": {
     "duration": 0.06024,
     "end_time": "2024-10-15T08:18:15.745956",
     "exception": false,
     "start_time": "2024-10-15T08:18:15.685716",
     "status": "completed"
    },
    "tags": []
   },
   "outputs": [
    {
     "data": {
      "text/html": [
       "<div>\n",
       "<style scoped>\n",
       "    .dataframe tbody tr th:only-of-type {\n",
       "        vertical-align: middle;\n",
       "    }\n",
       "\n",
       "    .dataframe tbody tr th {\n",
       "        vertical-align: top;\n",
       "    }\n",
       "\n",
       "    .dataframe thead th {\n",
       "        text-align: right;\n",
       "    }\n",
       "</style>\n",
       "<table border=\"1\" class=\"dataframe\">\n",
       "  <thead>\n",
       "    <tr style=\"text-align: right;\">\n",
       "      <th></th>\n",
       "      <th>Unnamed: 0</th>\n",
       "      <th>patient_barcode</th>\n",
       "      <th>tissue_source_site</th>\n",
       "      <th>patient_id</th>\n",
       "      <th>bcr_patient_uuid</th>\n",
       "      <th>informed_consent_verified</th>\n",
       "      <th>icd_o_3_site</th>\n",
       "      <th>icd_o_3_histology</th>\n",
       "      <th>icd_10</th>\n",
       "      <th>tissue_prospective_collection_indicator</th>\n",
       "      <th>...</th>\n",
       "      <th>primary_pathology_lymph_node_examined_count</th>\n",
       "      <th>primary_pathology_number_of_lymphnodes_positive_by_he</th>\n",
       "      <th>primary_pathology_number_of_lymphnodes_positive_by_ihc</th>\n",
       "      <th>primary_pathology_planned_surgery_status</th>\n",
       "      <th>primary_pathology_treatment_prior_to_surgery</th>\n",
       "      <th>primary_pathology_residual_tumor</th>\n",
       "      <th>primary_pathology_karnofsky_performance_score</th>\n",
       "      <th>primary_pathology_eastern_cancer_oncology_group</th>\n",
       "      <th>primary_pathology_radiation_therapy</th>\n",
       "      <th>primary_pathology_postoperative_rx_tx</th>\n",
       "    </tr>\n",
       "  </thead>\n",
       "  <tbody>\n",
       "    <tr>\n",
       "      <th>0</th>\n",
       "      <td>0</td>\n",
       "      <td>TCGA-2H-A9GF</td>\n",
       "      <td>2H</td>\n",
       "      <td>A9GF</td>\n",
       "      <td>0500F1A6-A528-43F3-B035-12D3B7C99C0F</td>\n",
       "      <td>YES</td>\n",
       "      <td>C15.5</td>\n",
       "      <td>8140/3</td>\n",
       "      <td>C15.5</td>\n",
       "      <td>NO</td>\n",
       "      <td>...</td>\n",
       "      <td>8.0</td>\n",
       "      <td>7.0</td>\n",
       "      <td>0.0</td>\n",
       "      <td>NaN</td>\n",
       "      <td>NaN</td>\n",
       "      <td>R1</td>\n",
       "      <td>NaN</td>\n",
       "      <td>NaN</td>\n",
       "      <td>NO</td>\n",
       "      <td>NO</td>\n",
       "    </tr>\n",
       "    <tr>\n",
       "      <th>1</th>\n",
       "      <td>1</td>\n",
       "      <td>TCGA-2H-A9GG</td>\n",
       "      <td>2H</td>\n",
       "      <td>A9GG</td>\n",
       "      <td>70084008-697D-442D-8F74-C12F8F598570</td>\n",
       "      <td>YES</td>\n",
       "      <td>C15.5</td>\n",
       "      <td>8140/3</td>\n",
       "      <td>C15.5</td>\n",
       "      <td>NO</td>\n",
       "      <td>...</td>\n",
       "      <td>19.0</td>\n",
       "      <td>4.0</td>\n",
       "      <td>0.0</td>\n",
       "      <td>NaN</td>\n",
       "      <td>NaN</td>\n",
       "      <td>R1</td>\n",
       "      <td>NaN</td>\n",
       "      <td>NaN</td>\n",
       "      <td>NO</td>\n",
       "      <td>NO</td>\n",
       "    </tr>\n",
       "    <tr>\n",
       "      <th>2</th>\n",
       "      <td>2</td>\n",
       "      <td>TCGA-2H-A9GH</td>\n",
       "      <td>2H</td>\n",
       "      <td>A9GH</td>\n",
       "      <td>606DC5B8-7625-42A6-A936-504EF25623A4</td>\n",
       "      <td>YES</td>\n",
       "      <td>C15.5</td>\n",
       "      <td>8140/3</td>\n",
       "      <td>C15.5</td>\n",
       "      <td>NO</td>\n",
       "      <td>...</td>\n",
       "      <td>30.0</td>\n",
       "      <td>1.0</td>\n",
       "      <td>0.0</td>\n",
       "      <td>NaN</td>\n",
       "      <td>NaN</td>\n",
       "      <td>R0</td>\n",
       "      <td>NaN</td>\n",
       "      <td>NaN</td>\n",
       "      <td>NO</td>\n",
       "      <td>NO</td>\n",
       "    </tr>\n",
       "    <tr>\n",
       "      <th>3</th>\n",
       "      <td>3</td>\n",
       "      <td>TCGA-2H-A9GI</td>\n",
       "      <td>2H</td>\n",
       "      <td>A9GI</td>\n",
       "      <td>CEAF98F8-517E-457A-BF29-ACFE22893D49</td>\n",
       "      <td>YES</td>\n",
       "      <td>C15.5</td>\n",
       "      <td>8140/3</td>\n",
       "      <td>C15.5</td>\n",
       "      <td>NO</td>\n",
       "      <td>...</td>\n",
       "      <td>8.0</td>\n",
       "      <td>4.0</td>\n",
       "      <td>0.0</td>\n",
       "      <td>NaN</td>\n",
       "      <td>NaN</td>\n",
       "      <td>R0</td>\n",
       "      <td>NaN</td>\n",
       "      <td>NaN</td>\n",
       "      <td>NO</td>\n",
       "      <td>NO</td>\n",
       "    </tr>\n",
       "    <tr>\n",
       "      <th>4</th>\n",
       "      <td>4</td>\n",
       "      <td>TCGA-2H-A9GJ</td>\n",
       "      <td>2H</td>\n",
       "      <td>A9GJ</td>\n",
       "      <td>EE47CD59-C8D8-4B1E-96DB-91C679E4106F</td>\n",
       "      <td>YES</td>\n",
       "      <td>C15.5</td>\n",
       "      <td>8140/3</td>\n",
       "      <td>C15.5</td>\n",
       "      <td>NO</td>\n",
       "      <td>...</td>\n",
       "      <td>19.0</td>\n",
       "      <td>0.0</td>\n",
       "      <td>0.0</td>\n",
       "      <td>NaN</td>\n",
       "      <td>NaN</td>\n",
       "      <td>R0</td>\n",
       "      <td>NaN</td>\n",
       "      <td>NaN</td>\n",
       "      <td>NO</td>\n",
       "      <td>NO</td>\n",
       "    </tr>\n",
       "  </tbody>\n",
       "</table>\n",
       "<p>5 rows × 85 columns</p>\n",
       "</div>"
      ],
      "text/plain": [
       "   Unnamed: 0 patient_barcode tissue_source_site patient_id  \\\n",
       "0           0    TCGA-2H-A9GF                 2H       A9GF   \n",
       "1           1    TCGA-2H-A9GG                 2H       A9GG   \n",
       "2           2    TCGA-2H-A9GH                 2H       A9GH   \n",
       "3           3    TCGA-2H-A9GI                 2H       A9GI   \n",
       "4           4    TCGA-2H-A9GJ                 2H       A9GJ   \n",
       "\n",
       "                       bcr_patient_uuid informed_consent_verified  \\\n",
       "0  0500F1A6-A528-43F3-B035-12D3B7C99C0F                       YES   \n",
       "1  70084008-697D-442D-8F74-C12F8F598570                       YES   \n",
       "2  606DC5B8-7625-42A6-A936-504EF25623A4                       YES   \n",
       "3  CEAF98F8-517E-457A-BF29-ACFE22893D49                       YES   \n",
       "4  EE47CD59-C8D8-4B1E-96DB-91C679E4106F                       YES   \n",
       "\n",
       "  icd_o_3_site icd_o_3_histology icd_10  \\\n",
       "0        C15.5            8140/3  C15.5   \n",
       "1        C15.5            8140/3  C15.5   \n",
       "2        C15.5            8140/3  C15.5   \n",
       "3        C15.5            8140/3  C15.5   \n",
       "4        C15.5            8140/3  C15.5   \n",
       "\n",
       "  tissue_prospective_collection_indicator  ...  \\\n",
       "0                                      NO  ...   \n",
       "1                                      NO  ...   \n",
       "2                                      NO  ...   \n",
       "3                                      NO  ...   \n",
       "4                                      NO  ...   \n",
       "\n",
       "  primary_pathology_lymph_node_examined_count  \\\n",
       "0                                         8.0   \n",
       "1                                        19.0   \n",
       "2                                        30.0   \n",
       "3                                         8.0   \n",
       "4                                        19.0   \n",
       "\n",
       "   primary_pathology_number_of_lymphnodes_positive_by_he  \\\n",
       "0                                                7.0       \n",
       "1                                                4.0       \n",
       "2                                                1.0       \n",
       "3                                                4.0       \n",
       "4                                                0.0       \n",
       "\n",
       "  primary_pathology_number_of_lymphnodes_positive_by_ihc  \\\n",
       "0                                                0.0       \n",
       "1                                                0.0       \n",
       "2                                                0.0       \n",
       "3                                                0.0       \n",
       "4                                                0.0       \n",
       "\n",
       "  primary_pathology_planned_surgery_status  \\\n",
       "0                                      NaN   \n",
       "1                                      NaN   \n",
       "2                                      NaN   \n",
       "3                                      NaN   \n",
       "4                                      NaN   \n",
       "\n",
       "   primary_pathology_treatment_prior_to_surgery  \\\n",
       "0                                           NaN   \n",
       "1                                           NaN   \n",
       "2                                           NaN   \n",
       "3                                           NaN   \n",
       "4                                           NaN   \n",
       "\n",
       "   primary_pathology_residual_tumor  \\\n",
       "0                                R1   \n",
       "1                                R1   \n",
       "2                                R0   \n",
       "3                                R0   \n",
       "4                                R0   \n",
       "\n",
       "  primary_pathology_karnofsky_performance_score  \\\n",
       "0                                           NaN   \n",
       "1                                           NaN   \n",
       "2                                           NaN   \n",
       "3                                           NaN   \n",
       "4                                           NaN   \n",
       "\n",
       "  primary_pathology_eastern_cancer_oncology_group  \\\n",
       "0                                             NaN   \n",
       "1                                             NaN   \n",
       "2                                             NaN   \n",
       "3                                             NaN   \n",
       "4                                             NaN   \n",
       "\n",
       "  primary_pathology_radiation_therapy primary_pathology_postoperative_rx_tx  \n",
       "0                                  NO                                    NO  \n",
       "1                                  NO                                    NO  \n",
       "2                                  NO                                    NO  \n",
       "3                                  NO                                    NO  \n",
       "4                                  NO                                    NO  \n",
       "\n",
       "[5 rows x 85 columns]"
      ]
     },
     "execution_count": 4,
     "metadata": {},
     "output_type": "execute_result"
    }
   ],
   "source": [
    "df.head()"
   ]
  },
  {
   "cell_type": "code",
   "execution_count": 5,
   "id": "e9b0d02b",
   "metadata": {
    "execution": {
     "iopub.execute_input": "2024-10-15T08:18:15.773638Z",
     "iopub.status.busy": "2024-10-15T08:18:15.773195Z",
     "iopub.status.idle": "2024-10-15T08:18:15.780352Z",
     "shell.execute_reply": "2024-10-15T08:18:15.779348Z"
    },
    "papermill": {
     "duration": 0.02398,
     "end_time": "2024-10-15T08:18:15.782924",
     "exception": false,
     "start_time": "2024-10-15T08:18:15.758944",
     "status": "completed"
    },
    "tags": []
   },
   "outputs": [
    {
     "data": {
      "text/plain": [
       "(3985, 85)"
      ]
     },
     "execution_count": 5,
     "metadata": {},
     "output_type": "execute_result"
    }
   ],
   "source": [
    "df.shape"
   ]
  },
  {
   "cell_type": "code",
   "execution_count": 6,
   "id": "021f567a",
   "metadata": {
    "execution": {
     "iopub.execute_input": "2024-10-15T08:18:15.810654Z",
     "iopub.status.busy": "2024-10-15T08:18:15.810199Z",
     "iopub.status.idle": "2024-10-15T08:18:15.824429Z",
     "shell.execute_reply": "2024-10-15T08:18:15.823242Z"
    },
    "papermill": {
     "duration": 0.031778,
     "end_time": "2024-10-15T08:18:15.827791",
     "exception": false,
     "start_time": "2024-10-15T08:18:15.796013",
     "status": "completed"
    },
    "tags": []
   },
   "outputs": [
    {
     "name": "stdout",
     "output_type": "stream",
     "text": [
      "Unnamed: 0: int64\n",
      "patient_barcode: str\n",
      "tissue_source_site: str\n",
      "patient_id: str\n",
      "bcr_patient_uuid: str\n",
      "informed_consent_verified: str\n",
      "icd_o_3_site: str\n",
      "icd_o_3_histology: str\n",
      "icd_10: str\n",
      "tissue_prospective_collection_indicator: str\n",
      "tissue_retrospective_collection_indicator: str\n",
      "days_to_birth: int64\n",
      "country_of_birth: float\n",
      "gender: str\n",
      "height: float64\n",
      "weight: float64\n",
      "country_of_procurement: str\n",
      "state_province_of_procurement: str\n",
      "city_of_procurement: str\n",
      "race_list: float\n",
      "ethnicity: float\n",
      "other_dx: str\n",
      "history_of_neoadjuvant_treatment: str\n",
      "person_neoplasm_cancer_status: str\n",
      "vital_status: str\n",
      "days_to_last_followup: float64\n",
      "days_to_death: float64\n",
      "tobacco_smoking_history: float64\n",
      "age_began_smoking_in_years: float64\n",
      "stopped_smoking_year: float64\n",
      "number_pack_years_smoked: float64\n",
      "alcohol_history_documented: str\n",
      "frequency_of_alcohol_consumption: float64\n",
      "amount_of_alcohol_consumption_per_day: float64\n",
      "reflux_history: float\n",
      "antireflux_treatment_types: float\n",
      "h_pylori_infection: float\n",
      "initial_diagnosis_by: str\n",
      "barretts_esophagus: str\n",
      "goblet_cells_present: float\n",
      "history_of_esophageal_cancer: float\n",
      "number_of_relatives_diagnosed: float64\n",
      "has_new_tumor_events_information: str\n",
      "day_of_form_completion: int64\n",
      "month_of_form_completion: int64\n",
      "year_of_form_completion: int64\n",
      "has_follow_ups_information: str\n",
      "has_drugs_information: str\n",
      "has_radiations_information: str\n",
      "project: str\n",
      "stage_event_system_version: str\n",
      "stage_event_clinical_stage: float\n",
      "stage_event_pathologic_stage: str\n",
      "stage_event_tnm_categories: str\n",
      "stage_event_psa: float64\n",
      "stage_event_gleason_grading: float64\n",
      "stage_event_ann_arbor: float64\n",
      "stage_event_serum_markers: float64\n",
      "stage_event_igcccg_stage: float64\n",
      "stage_event_masaoka_stage: float64\n",
      "primary_pathology_tumor_tissue_site: str\n",
      "primary_pathology_esophageal_tumor_cental_location: str\n",
      "primary_pathology_esophageal_tumor_involvement_sites: str\n",
      "primary_pathology_histological_type: str\n",
      "primary_pathology_columnar_metaplasia_present: str\n",
      "primary_pathology_columnar_mucosa_goblet_cell_present: str\n",
      "primary_pathology_columnar_mucosa_dysplasia: str\n",
      "primary_pathology_neoplasm_histologic_grade: str\n",
      "primary_pathology_days_to_initial_pathologic_diagnosis: int64\n",
      "primary_pathology_age_at_initial_pathologic_diagnosis: int64\n",
      "primary_pathology_year_of_initial_pathologic_diagnosis: float64\n",
      "primary_pathology_initial_pathologic_diagnosis_method: str\n",
      "primary_pathology_init_pathology_dx_method_other: str\n",
      "primary_pathology_lymph_node_metastasis_radiographic_evidence: str\n",
      "primary_pathology_primary_lymph_node_presentation_assessment: str\n",
      "primary_pathology_lymph_node_examined_count: float64\n",
      "primary_pathology_number_of_lymphnodes_positive_by_he: float64\n",
      "primary_pathology_number_of_lymphnodes_positive_by_ihc: float64\n",
      "primary_pathology_planned_surgery_status: float\n",
      "primary_pathology_treatment_prior_to_surgery: float\n",
      "primary_pathology_residual_tumor: str\n",
      "primary_pathology_karnofsky_performance_score: float64\n",
      "primary_pathology_eastern_cancer_oncology_group: float64\n",
      "primary_pathology_radiation_therapy: str\n",
      "primary_pathology_postoperative_rx_tx: str\n"
     ]
    }
   ],
   "source": [
    "from wolta.data_tools import col_types\n",
    "\n",
    "types = col_types(df, print_columns=True)"
   ]
  },
  {
   "cell_type": "code",
   "execution_count": 7,
   "id": "ef5408bc",
   "metadata": {
    "execution": {
     "iopub.execute_input": "2024-10-15T08:18:15.858351Z",
     "iopub.status.busy": "2024-10-15T08:18:15.857435Z",
     "iopub.status.idle": "2024-10-15T08:18:15.920156Z",
     "shell.execute_reply": "2024-10-15T08:18:15.919008Z"
    },
    "papermill": {
     "duration": 0.08048,
     "end_time": "2024-10-15T08:18:15.923271",
     "exception": false,
     "start_time": "2024-10-15T08:18:15.842791",
     "status": "completed"
    },
    "tags": []
   },
   "outputs": [
    {
     "name": "stdout",
     "output_type": "stream",
     "text": [
      "tissue_prospective_collection_indicator has 40 null values\n",
      "tissue_retrospective_collection_indicator has 40 null values\n",
      "country_of_birth has 1927 null values\n",
      "height has 219 null values\n",
      "weight has 40 null values\n",
      "country_of_procurement has 40 null values\n",
      "state_province_of_procurement has 1280 null values\n",
      "city_of_procurement has 860 null values\n",
      "race_list has 419 null values\n",
      "ethnicity has 2048 null values\n",
      "person_neoplasm_cancer_status has 335 null values\n",
      "days_to_last_followup has 1197 null values\n",
      "days_to_death has 2788 null values\n",
      "tobacco_smoking_history has 380 null values\n",
      "age_began_smoking_in_years has 2253 null values\n",
      "stopped_smoking_year has 2377 null values\n",
      "number_pack_years_smoked has 1816 null values\n",
      "alcohol_history_documented has 60 null values\n",
      "frequency_of_alcohol_consumption has 1516 null values\n",
      "amount_of_alcohol_consumption_per_day has 1877 null values\n",
      "reflux_history has 677 null values\n",
      "antireflux_treatment_types has 2988 null values\n",
      "h_pylori_infection has 2428 null values\n",
      "initial_diagnosis_by has 738 null values\n",
      "barretts_esophagus has 818 null values\n",
      "goblet_cells_present has 3566 null values\n",
      "history_of_esophageal_cancer has 837 null values\n",
      "number_of_relatives_diagnosed has 3146 null values\n",
      "stage_event_clinical_stage has 2667 null values\n",
      "stage_event_pathologic_stage has 498 null values\n",
      "stage_event_psa has 3985 null values\n",
      "stage_event_gleason_grading has 3985 null values\n",
      "stage_event_ann_arbor has 3985 null values\n",
      "stage_event_serum_markers has 3985 null values\n",
      "stage_event_igcccg_stage has 3985 null values\n",
      "stage_event_masaoka_stage has 3985 null values\n",
      "primary_pathology_esophageal_tumor_cental_location has 20 null values\n",
      "primary_pathology_esophageal_tumor_involvement_sites has 20 null values\n",
      "primary_pathology_columnar_metaplasia_present has 1595 null values\n",
      "primary_pathology_columnar_mucosa_goblet_cell_present has 2174 null values\n",
      "primary_pathology_columnar_mucosa_dysplasia has 2235 null values\n",
      "primary_pathology_year_of_initial_pathologic_diagnosis has 140 null values\n",
      "primary_pathology_initial_pathologic_diagnosis_method has 100 null values\n",
      "primary_pathology_init_pathology_dx_method_other has 3106 null values\n",
      "primary_pathology_lymph_node_metastasis_radiographic_evidence has 837 null values\n",
      "primary_pathology_primary_lymph_node_presentation_assessment has 320 null values\n",
      "primary_pathology_lymph_node_examined_count has 1000 null values\n",
      "primary_pathology_number_of_lymphnodes_positive_by_he has 1000 null values\n",
      "primary_pathology_number_of_lymphnodes_positive_by_ihc has 2533 null values\n",
      "primary_pathology_planned_surgery_status has 2507 null values\n",
      "primary_pathology_treatment_prior_to_surgery has 2847 null values\n",
      "primary_pathology_residual_tumor has 520 null values\n",
      "primary_pathology_karnofsky_performance_score has 2625 null values\n",
      "primary_pathology_eastern_cancer_oncology_group has 2628 null values\n",
      "primary_pathology_radiation_therapy has 638 null values\n",
      "primary_pathology_postoperative_rx_tx has 658 null values\n"
     ]
    }
   ],
   "source": [
    "from wolta.data_tools import seek_null\n",
    "\n",
    "seeked = seek_null(df, print_columns=True)"
   ]
  },
  {
   "cell_type": "code",
   "execution_count": 8,
   "id": "4c0e2d38",
   "metadata": {
    "execution": {
     "iopub.execute_input": "2024-10-15T08:18:15.952253Z",
     "iopub.status.busy": "2024-10-15T08:18:15.951314Z",
     "iopub.status.idle": "2024-10-15T08:18:15.987349Z",
     "shell.execute_reply": "2024-10-15T08:18:15.986295Z"
    },
    "papermill": {
     "duration": 0.053125,
     "end_time": "2024-10-15T08:18:15.989821",
     "exception": false,
     "start_time": "2024-10-15T08:18:15.936696",
     "status": "completed"
    },
    "tags": []
   },
   "outputs": [
    {
     "data": {
      "text/plain": [
       "{'Unnamed: 0': 3985,\n",
       " 'patient_barcode': 3985,\n",
       " 'tissue_source_site': 19,\n",
       " 'patient_id': 185,\n",
       " 'bcr_patient_uuid': 185,\n",
       " 'informed_consent_verified': 1,\n",
       " 'icd_o_3_site': 6,\n",
       " 'icd_o_3_histology': 6,\n",
       " 'icd_10': 5,\n",
       " 'tissue_prospective_collection_indicator': 3,\n",
       " 'tissue_retrospective_collection_indicator': 3,\n",
       " 'days_to_birth': 3344,\n",
       " 'country_of_birth': 9,\n",
       " 'gender': 2,\n",
       " 'height': 58,\n",
       " 'weight': 109,\n",
       " 'country_of_procurement': 11,\n",
       " 'state_province_of_procurement': 21,\n",
       " 'city_of_procurement': 29,\n",
       " 'race_list': 4,\n",
       " 'ethnicity': 3,\n",
       " 'other_dx': 2,\n",
       " 'history_of_neoadjuvant_treatment': 1,\n",
       " 'person_neoplasm_cancer_status': 3,\n",
       " 'vital_status': 2,\n",
       " 'days_to_last_followup': 85,\n",
       " 'days_to_death': 58,\n",
       " 'tobacco_smoking_history': 5,\n",
       " 'age_began_smoking_in_years': 28,\n",
       " 'stopped_smoking_year': 40,\n",
       " 'number_pack_years_smoked': 47,\n",
       " 'alcohol_history_documented': 3,\n",
       " 'frequency_of_alcohol_consumption': 8,\n",
       " 'amount_of_alcohol_consumption_per_day': 12,\n",
       " 'reflux_history': 3,\n",
       " 'antireflux_treatment_types': 4,\n",
       " 'h_pylori_infection': 3,\n",
       " 'initial_diagnosis_by': 4,\n",
       " 'barretts_esophagus': 4,\n",
       " 'goblet_cells_present': 3,\n",
       " 'history_of_esophageal_cancer': 3,\n",
       " 'number_of_relatives_diagnosed': 4,\n",
       " 'has_new_tumor_events_information': 2,\n",
       " 'day_of_form_completion': 22,\n",
       " 'month_of_form_completion': 12,\n",
       " 'year_of_form_completion': 4,\n",
       " 'has_follow_ups_information': 2,\n",
       " 'has_drugs_information': 2,\n",
       " 'has_radiations_information': 2,\n",
       " 'project': 1,\n",
       " 'stage_event_system_version': 3,\n",
       " 'stage_event_clinical_stage': 13,\n",
       " 'stage_event_pathologic_stage': 13,\n",
       " 'stage_event_tnm_categories': 54,\n",
       " 'stage_event_psa': 1,\n",
       " 'stage_event_gleason_grading': 1,\n",
       " 'stage_event_ann_arbor': 1,\n",
       " 'stage_event_serum_markers': 1,\n",
       " 'stage_event_igcccg_stage': 1,\n",
       " 'stage_event_masaoka_stage': 1,\n",
       " 'primary_pathology_tumor_tissue_site': 1,\n",
       " 'primary_pathology_esophageal_tumor_cental_location': 4,\n",
       " 'primary_pathology_esophageal_tumor_involvement_sites': 6,\n",
       " 'primary_pathology_histological_type': 2,\n",
       " 'primary_pathology_columnar_metaplasia_present': 3,\n",
       " 'primary_pathology_columnar_mucosa_goblet_cell_present': 3,\n",
       " 'primary_pathology_columnar_mucosa_dysplasia': 4,\n",
       " 'primary_pathology_neoplasm_histologic_grade': 4,\n",
       " 'primary_pathology_days_to_initial_pathologic_diagnosis': 1,\n",
       " 'primary_pathology_age_at_initial_pathologic_diagnosis': 46,\n",
       " 'primary_pathology_year_of_initial_pathologic_diagnosis': 16,\n",
       " 'primary_pathology_initial_pathologic_diagnosis_method': 4,\n",
       " 'primary_pathology_init_pathology_dx_method_other': 11,\n",
       " 'primary_pathology_lymph_node_metastasis_radiographic_evidence': 3,\n",
       " 'primary_pathology_primary_lymph_node_presentation_assessment': 3,\n",
       " 'primary_pathology_lymph_node_examined_count': 40,\n",
       " 'primary_pathology_number_of_lymphnodes_positive_by_he': 15,\n",
       " 'primary_pathology_number_of_lymphnodes_positive_by_ihc': 6,\n",
       " 'primary_pathology_planned_surgery_status': 4,\n",
       " 'primary_pathology_treatment_prior_to_surgery': 3,\n",
       " 'primary_pathology_residual_tumor': 5,\n",
       " 'primary_pathology_karnofsky_performance_score': 9,\n",
       " 'primary_pathology_eastern_cancer_oncology_group': 5,\n",
       " 'primary_pathology_radiation_therapy': 3,\n",
       " 'primary_pathology_postoperative_rx_tx': 3}"
      ]
     },
     "execution_count": 8,
     "metadata": {},
     "output_type": "execute_result"
    }
   ],
   "source": [
    "from wolta.data_tools import unique_amounts\n",
    "\n",
    "unique_amounts(df)"
   ]
  },
  {
   "cell_type": "markdown",
   "id": "2338dc7e",
   "metadata": {
    "papermill": {
     "duration": 0.013405,
     "end_time": "2024-10-15T08:18:16.016973",
     "exception": false,
     "start_time": "2024-10-15T08:18:16.003568",
     "status": "completed"
    },
    "tags": []
   },
   "source": [
    "# Data Manipulation"
   ]
  },
  {
   "cell_type": "code",
   "execution_count": 9,
   "id": "a8895077",
   "metadata": {
    "execution": {
     "iopub.execute_input": "2024-10-15T08:18:16.046514Z",
     "iopub.status.busy": "2024-10-15T08:18:16.046095Z",
     "iopub.status.idle": "2024-10-15T08:18:16.051655Z",
     "shell.execute_reply": "2024-10-15T08:18:16.050611Z"
    },
    "papermill": {
     "duration": 0.022993,
     "end_time": "2024-10-15T08:18:16.054135",
     "exception": false,
     "start_time": "2024-10-15T08:18:16.031142",
     "status": "completed"
    },
    "tags": []
   },
   "outputs": [],
   "source": [
    "will_del = ['Unnamed: 0',\n",
    "           'patient_barcode',\n",
    "           'tissue_source_site',\n",
    "           'patient_id',\n",
    "           'bcr_patient_uuid',\n",
    "           'informed_consent_verified',\n",
    "           'icd_o_3_site',\n",
    "           'icd_o_3_histology',\n",
    "           'icd_10',\n",
    "           'tissue_prospective_collection_indicator',\n",
    "           'tissue_retrospective_collection_indicator']"
   ]
  },
  {
   "cell_type": "code",
   "execution_count": 10,
   "id": "9bfd0577",
   "metadata": {
    "execution": {
     "iopub.execute_input": "2024-10-15T08:18:16.083869Z",
     "iopub.status.busy": "2024-10-15T08:18:16.083404Z",
     "iopub.status.idle": "2024-10-15T08:18:16.162702Z",
     "shell.execute_reply": "2024-10-15T08:18:16.161533Z"
    },
    "papermill": {
     "duration": 0.097323,
     "end_time": "2024-10-15T08:18:16.165788",
     "exception": false,
     "start_time": "2024-10-15T08:18:16.068465",
     "status": "completed"
    },
    "tags": []
   },
   "outputs": [
    {
     "name": "stdout",
     "output_type": "stream",
     "text": [
      "The maximum tolerated null value amount is 398\n",
      "country_of_birth will be deleted because it has 1927 null values and this is 1529 values more than tolerance\n",
      "state_province_of_procurement will be deleted because it has 1280 null values and this is 882 values more than tolerance\n",
      "city_of_procurement will be deleted because it has 860 null values and this is 462 values more than tolerance\n",
      "race_list will be deleted because it has 419 null values and this is 21 values more than tolerance\n",
      "ethnicity will be deleted because it has 2048 null values and this is 1650 values more than tolerance\n",
      "days_to_last_followup will be deleted because it has 1197 null values and this is 799 values more than tolerance\n",
      "days_to_death will be deleted because it has 2788 null values and this is 2390 values more than tolerance\n",
      "age_began_smoking_in_years will be deleted because it has 2253 null values and this is 1855 values more than tolerance\n",
      "stopped_smoking_year will be deleted because it has 2377 null values and this is 1979 values more than tolerance\n",
      "number_pack_years_smoked will be deleted because it has 1816 null values and this is 1418 values more than tolerance\n",
      "frequency_of_alcohol_consumption will be deleted because it has 1516 null values and this is 1118 values more than tolerance\n",
      "amount_of_alcohol_consumption_per_day will be deleted because it has 1877 null values and this is 1479 values more than tolerance\n",
      "reflux_history will be deleted because it has 677 null values and this is 279 values more than tolerance\n",
      "antireflux_treatment_types will be deleted because it has 2988 null values and this is 2590 values more than tolerance\n",
      "h_pylori_infection will be deleted because it has 2428 null values and this is 2030 values more than tolerance\n",
      "initial_diagnosis_by will be deleted because it has 738 null values and this is 340 values more than tolerance\n",
      "barretts_esophagus will be deleted because it has 818 null values and this is 420 values more than tolerance\n",
      "goblet_cells_present will be deleted because it has 3566 null values and this is 3168 values more than tolerance\n",
      "history_of_esophageal_cancer will be deleted because it has 837 null values and this is 439 values more than tolerance\n",
      "number_of_relatives_diagnosed will be deleted because it has 3146 null values and this is 2748 values more than tolerance\n",
      "stage_event_clinical_stage will be deleted because it has 2667 null values and this is 2269 values more than tolerance\n",
      "stage_event_pathologic_stage will be deleted because it has 498 null values and this is 100 values more than tolerance\n",
      "stage_event_psa will be deleted because it has 3985 null values and this is 3587 values more than tolerance\n",
      "stage_event_gleason_grading will be deleted because it has 3985 null values and this is 3587 values more than tolerance\n",
      "stage_event_ann_arbor will be deleted because it has 3985 null values and this is 3587 values more than tolerance\n",
      "stage_event_serum_markers will be deleted because it has 3985 null values and this is 3587 values more than tolerance\n",
      "stage_event_igcccg_stage will be deleted because it has 3985 null values and this is 3587 values more than tolerance\n",
      "stage_event_masaoka_stage will be deleted because it has 3985 null values and this is 3587 values more than tolerance\n",
      "primary_pathology_columnar_metaplasia_present will be deleted because it has 1595 null values and this is 1197 values more than tolerance\n",
      "primary_pathology_columnar_mucosa_goblet_cell_present will be deleted because it has 2174 null values and this is 1776 values more than tolerance\n",
      "primary_pathology_columnar_mucosa_dysplasia will be deleted because it has 2235 null values and this is 1837 values more than tolerance\n",
      "primary_pathology_init_pathology_dx_method_other will be deleted because it has 3106 null values and this is 2708 values more than tolerance\n",
      "primary_pathology_lymph_node_metastasis_radiographic_evidence will be deleted because it has 837 null values and this is 439 values more than tolerance\n",
      "primary_pathology_lymph_node_examined_count will be deleted because it has 1000 null values and this is 602 values more than tolerance\n",
      "primary_pathology_number_of_lymphnodes_positive_by_he will be deleted because it has 1000 null values and this is 602 values more than tolerance\n",
      "primary_pathology_number_of_lymphnodes_positive_by_ihc will be deleted because it has 2533 null values and this is 2135 values more than tolerance\n",
      "primary_pathology_planned_surgery_status will be deleted because it has 2507 null values and this is 2109 values more than tolerance\n",
      "primary_pathology_treatment_prior_to_surgery will be deleted because it has 2847 null values and this is 2449 values more than tolerance\n",
      "primary_pathology_residual_tumor will be deleted because it has 520 null values and this is 122 values more than tolerance\n",
      "primary_pathology_karnofsky_performance_score will be deleted because it has 2625 null values and this is 2227 values more than tolerance\n",
      "primary_pathology_eastern_cancer_oncology_group will be deleted because it has 2628 null values and this is 2230 values more than tolerance\n",
      "primary_pathology_radiation_therapy will be deleted because it has 638 null values and this is 240 values more than tolerance\n",
      "primary_pathology_postoperative_rx_tx will be deleted because it has 658 null values and this is 260 values more than tolerance\n",
      "history_of_neoadjuvant_treatment will be deleted because it has single value\n",
      "project will be deleted because it has single value\n",
      "primary_pathology_tumor_tissue_site will be deleted because it has single value\n",
      "primary_pathology_days_to_initial_pathologic_diagnosis will be deleted because it has single value\n",
      "The maximum tolerated unique value amount is 398 in string data\n"
     ]
    }
   ],
   "source": [
    "from wolta.feature_tools import list_deletings\n",
    "\n",
    "df = list_deletings(df, extra=will_del, null_tolerance=10)"
   ]
  },
  {
   "cell_type": "code",
   "execution_count": 11,
   "id": "362b7f61",
   "metadata": {
    "execution": {
     "iopub.execute_input": "2024-10-15T08:18:16.195524Z",
     "iopub.status.busy": "2024-10-15T08:18:16.195097Z",
     "iopub.status.idle": "2024-10-15T08:18:16.219068Z",
     "shell.execute_reply": "2024-10-15T08:18:16.217772Z"
    },
    "papermill": {
     "duration": 0.041862,
     "end_time": "2024-10-15T08:18:16.221614",
     "exception": false,
     "start_time": "2024-10-15T08:18:16.179752",
     "status": "completed"
    },
    "tags": []
   },
   "outputs": [
    {
     "name": "stdout",
     "output_type": "stream",
     "text": [
      "height has 219 null values\n",
      "weight has 40 null values\n",
      "country_of_procurement has 40 null values\n",
      "person_neoplasm_cancer_status has 335 null values\n",
      "tobacco_smoking_history has 380 null values\n",
      "alcohol_history_documented has 60 null values\n",
      "primary_pathology_esophageal_tumor_cental_location has 20 null values\n",
      "primary_pathology_esophageal_tumor_involvement_sites has 20 null values\n",
      "primary_pathology_year_of_initial_pathologic_diagnosis has 140 null values\n",
      "primary_pathology_initial_pathologic_diagnosis_method has 100 null values\n",
      "primary_pathology_primary_lymph_node_presentation_assessment has 320 null values\n"
     ]
    }
   ],
   "source": [
    "seeked = seek_null(df, print_columns=True)"
   ]
  },
  {
   "cell_type": "code",
   "execution_count": 12,
   "id": "490097e7",
   "metadata": {
    "execution": {
     "iopub.execute_input": "2024-10-15T08:18:16.251614Z",
     "iopub.status.busy": "2024-10-15T08:18:16.251142Z",
     "iopub.status.idle": "2024-10-15T08:18:16.263628Z",
     "shell.execute_reply": "2024-10-15T08:18:16.262617Z"
    },
    "papermill": {
     "duration": 0.030655,
     "end_time": "2024-10-15T08:18:16.266379",
     "exception": false,
     "start_time": "2024-10-15T08:18:16.235724",
     "status": "completed"
    },
    "tags": []
   },
   "outputs": [],
   "source": [
    "df['person_neoplasm_cancer_status'] = df['person_neoplasm_cancer_status'].fillna('WILLBEDELETED')\n",
    "df = df[df['person_neoplasm_cancer_status'] != 'WILLBEDELETED']"
   ]
  },
  {
   "cell_type": "code",
   "execution_count": 13,
   "id": "1e212842",
   "metadata": {
    "execution": {
     "iopub.execute_input": "2024-10-15T08:18:16.296070Z",
     "iopub.status.busy": "2024-10-15T08:18:16.295587Z",
     "iopub.status.idle": "2024-10-15T08:18:16.302660Z",
     "shell.execute_reply": "2024-10-15T08:18:16.301574Z"
    },
    "papermill": {
     "duration": 0.024584,
     "end_time": "2024-10-15T08:18:16.305001",
     "exception": false,
     "start_time": "2024-10-15T08:18:16.280417",
     "status": "completed"
    },
    "tags": []
   },
   "outputs": [
    {
     "data": {
      "text/plain": [
       "(3650, 27)"
      ]
     },
     "execution_count": 13,
     "metadata": {},
     "output_type": "execute_result"
    }
   ],
   "source": [
    "df.shape"
   ]
  },
  {
   "cell_type": "code",
   "execution_count": 14,
   "id": "7e9cbf69",
   "metadata": {
    "execution": {
     "iopub.execute_input": "2024-10-15T08:18:16.334529Z",
     "iopub.status.busy": "2024-10-15T08:18:16.334085Z",
     "iopub.status.idle": "2024-10-15T08:18:16.341382Z",
     "shell.execute_reply": "2024-10-15T08:18:16.340279Z"
    },
    "papermill": {
     "duration": 0.025723,
     "end_time": "2024-10-15T08:18:16.344565",
     "exception": false,
     "start_time": "2024-10-15T08:18:16.318842",
     "status": "completed"
    },
    "tags": []
   },
   "outputs": [
    {
     "name": "stdout",
     "output_type": "stream",
     "text": [
      "days_to_birth: int64\n",
      "gender: str\n",
      "height: float64\n",
      "weight: float64\n",
      "country_of_procurement: str\n",
      "other_dx: str\n",
      "person_neoplasm_cancer_status: str\n",
      "vital_status: str\n",
      "tobacco_smoking_history: float64\n",
      "alcohol_history_documented: str\n",
      "has_new_tumor_events_information: str\n",
      "day_of_form_completion: int64\n",
      "month_of_form_completion: int64\n",
      "year_of_form_completion: int64\n",
      "has_follow_ups_information: str\n",
      "has_drugs_information: str\n",
      "has_radiations_information: str\n",
      "stage_event_system_version: str\n",
      "stage_event_tnm_categories: str\n",
      "primary_pathology_esophageal_tumor_cental_location: str\n",
      "primary_pathology_esophageal_tumor_involvement_sites: str\n",
      "primary_pathology_histological_type: str\n",
      "primary_pathology_neoplasm_histologic_grade: str\n",
      "primary_pathology_age_at_initial_pathologic_diagnosis: int64\n",
      "primary_pathology_year_of_initial_pathologic_diagnosis: float64\n",
      "primary_pathology_initial_pathologic_diagnosis_method: str\n",
      "primary_pathology_primary_lymph_node_presentation_assessment: str\n"
     ]
    }
   ],
   "source": [
    "types = col_types(df, print_columns=True)"
   ]
  },
  {
   "cell_type": "code",
   "execution_count": 15,
   "id": "acf74b06",
   "metadata": {
    "execution": {
     "iopub.execute_input": "2024-10-15T08:18:16.374592Z",
     "iopub.status.busy": "2024-10-15T08:18:16.374163Z",
     "iopub.status.idle": "2024-10-15T08:18:16.396425Z",
     "shell.execute_reply": "2024-10-15T08:18:16.395401Z"
    },
    "papermill": {
     "duration": 0.040943,
     "end_time": "2024-10-15T08:18:16.399659",
     "exception": false,
     "start_time": "2024-10-15T08:18:16.358716",
     "status": "completed"
    },
    "tags": []
   },
   "outputs": [
    {
     "name": "stdout",
     "output_type": "stream",
     "text": [
      "height has 160 null values\n",
      "weight has 20 null values\n",
      "country_of_procurement has 40 null values\n",
      "tobacco_smoking_history has 360 null values\n",
      "alcohol_history_documented has 60 null values\n",
      "primary_pathology_esophageal_tumor_cental_location has 20 null values\n",
      "primary_pathology_esophageal_tumor_involvement_sites has 20 null values\n",
      "primary_pathology_year_of_initial_pathologic_diagnosis has 140 null values\n",
      "primary_pathology_initial_pathologic_diagnosis_method has 100 null values\n",
      "primary_pathology_primary_lymph_node_presentation_assessment has 300 null values\n"
     ]
    }
   ],
   "source": [
    "seeked = seek_null(df, print_columns=True)"
   ]
  },
  {
   "cell_type": "code",
   "execution_count": 16,
   "id": "68e5e0c7",
   "metadata": {
    "execution": {
     "iopub.execute_input": "2024-10-15T08:18:16.430397Z",
     "iopub.status.busy": "2024-10-15T08:18:16.429973Z",
     "iopub.status.idle": "2024-10-15T08:18:16.438660Z",
     "shell.execute_reply": "2024-10-15T08:18:16.437725Z"
    },
    "papermill": {
     "duration": 0.02677,
     "end_time": "2024-10-15T08:18:16.441014",
     "exception": false,
     "start_time": "2024-10-15T08:18:16.414244",
     "status": "completed"
    },
    "tags": []
   },
   "outputs": [],
   "source": [
    "df['height'] = df['height'].fillna(np.nanmean(df['height'].values))\n",
    "df['weight'] = df['weight'].fillna(np.nanmean(df['weight'].values))\n",
    "df['tobacco_smoking_history'] = df['tobacco_smoking_history'].fillna(np.nanmean(df['tobacco_smoking_history'].values))"
   ]
  },
  {
   "cell_type": "code",
   "execution_count": 17,
   "id": "9d6d8c3f",
   "metadata": {
    "execution": {
     "iopub.execute_input": "2024-10-15T08:18:16.471410Z",
     "iopub.status.busy": "2024-10-15T08:18:16.470970Z",
     "iopub.status.idle": "2024-10-15T08:18:16.480571Z",
     "shell.execute_reply": "2024-10-15T08:18:16.479510Z"
    },
    "papermill": {
     "duration": 0.02763,
     "end_time": "2024-10-15T08:18:16.482951",
     "exception": false,
     "start_time": "2024-10-15T08:18:16.455321",
     "status": "completed"
    },
    "tags": []
   },
   "outputs": [],
   "source": [
    "df['primary_pathology_year_of_initial_pathologic_diagnosis'] = df['primary_pathology_year_of_initial_pathologic_diagnosis'].astype(str)"
   ]
  },
  {
   "cell_type": "code",
   "execution_count": 18,
   "id": "68b661f3",
   "metadata": {
    "execution": {
     "iopub.execute_input": "2024-10-15T08:18:16.513760Z",
     "iopub.status.busy": "2024-10-15T08:18:16.513003Z",
     "iopub.status.idle": "2024-10-15T08:18:16.529060Z",
     "shell.execute_reply": "2024-10-15T08:18:16.527856Z"
    },
    "papermill": {
     "duration": 0.034177,
     "end_time": "2024-10-15T08:18:16.531589",
     "exception": false,
     "start_time": "2024-10-15T08:18:16.497412",
     "status": "completed"
    },
    "tags": []
   },
   "outputs": [],
   "source": [
    "df['country_of_procurement'] = df['country_of_procurement'].fillna('UNKNOWN')\n",
    "df['alcohol_history_documented'] = df['alcohol_history_documented'].fillna('UNKNOWN')\n",
    "df['primary_pathology_esophageal_tumor_cental_location'] = df['primary_pathology_esophageal_tumor_cental_location'].fillna('UNKNOWN')\n",
    "df['primary_pathology_esophageal_tumor_involvement_sites'] = df['primary_pathology_esophageal_tumor_involvement_sites'].fillna('UNKNOWN')\n",
    "df['primary_pathology_year_of_initial_pathologic_diagnosis'] = df['primary_pathology_year_of_initial_pathologic_diagnosis'].fillna('UNKNOWN')\n",
    "df['primary_pathology_initial_pathologic_diagnosis_method'] = df['primary_pathology_initial_pathologic_diagnosis_method'].fillna('UNKNOWN')\n",
    "df['primary_pathology_primary_lymph_node_presentation_assessment'] = df['primary_pathology_primary_lymph_node_presentation_assessment'].fillna('UKNOWN')"
   ]
  },
  {
   "cell_type": "code",
   "execution_count": 19,
   "id": "51f2def3",
   "metadata": {
    "execution": {
     "iopub.execute_input": "2024-10-15T08:18:16.562323Z",
     "iopub.status.busy": "2024-10-15T08:18:16.561492Z",
     "iopub.status.idle": "2024-10-15T08:18:16.569746Z",
     "shell.execute_reply": "2024-10-15T08:18:16.568773Z"
    },
    "papermill": {
     "duration": 0.026738,
     "end_time": "2024-10-15T08:18:16.572667",
     "exception": false,
     "start_time": "2024-10-15T08:18:16.545929",
     "status": "completed"
    },
    "tags": []
   },
   "outputs": [
    {
     "name": "stdout",
     "output_type": "stream",
     "text": [
      "{'WITH TUMOR': 0, 'TUMOR FREE': 1}\n",
      "['WITH TUMOR', 'TUMOR FREE']\n"
     ]
    }
   ],
   "source": [
    "from wolta.data_tools import make_numerics\n",
    "\n",
    "df['person_neoplasm_cancer_status'], outs = make_numerics(df['person_neoplasm_cancer_status'], space_requested=True)\n",
    "\n",
    "print(outs)\n",
    "outs = list(outs)\n",
    "print(outs)"
   ]
  },
  {
   "cell_type": "code",
   "execution_count": 20,
   "id": "197f0d9e",
   "metadata": {
    "execution": {
     "iopub.execute_input": "2024-10-15T08:18:16.603122Z",
     "iopub.status.busy": "2024-10-15T08:18:16.602694Z",
     "iopub.status.idle": "2024-10-15T08:18:16.633817Z",
     "shell.execute_reply": "2024-10-15T08:18:16.632794Z"
    },
    "papermill": {
     "duration": 0.049706,
     "end_time": "2024-10-15T08:18:16.636593",
     "exception": false,
     "start_time": "2024-10-15T08:18:16.586887",
     "status": "completed"
    },
    "tags": []
   },
   "outputs": [],
   "source": [
    "types = col_types(df)\n",
    "loc = 0\n",
    "\n",
    "for col in df.columns:\n",
    "    if types[loc] == 'str':\n",
    "        df[col] = make_numerics(df[col])\n",
    "    \n",
    "    loc += 1"
   ]
  },
  {
   "cell_type": "markdown",
   "id": "1f35d63b",
   "metadata": {
    "papermill": {
     "duration": 0.013928,
     "end_time": "2024-10-15T08:18:16.664821",
     "exception": false,
     "start_time": "2024-10-15T08:18:16.650893",
     "status": "completed"
    },
    "tags": []
   },
   "source": [
    "# Data Analysis"
   ]
  },
  {
   "cell_type": "code",
   "execution_count": 21,
   "id": "f3015d94",
   "metadata": {
    "execution": {
     "iopub.execute_input": "2024-10-15T08:18:16.695894Z",
     "iopub.status.busy": "2024-10-15T08:18:16.694615Z",
     "iopub.status.idle": "2024-10-15T08:18:16.721354Z",
     "shell.execute_reply": "2024-10-15T08:18:16.720139Z"
    },
    "papermill": {
     "duration": 0.044826,
     "end_time": "2024-10-15T08:18:16.723988",
     "exception": false,
     "start_time": "2024-10-15T08:18:16.679162",
     "status": "completed"
    },
    "tags": []
   },
   "outputs": [
    {
     "data": {
      "text/html": [
       "<div>\n",
       "<style scoped>\n",
       "    .dataframe tbody tr th:only-of-type {\n",
       "        vertical-align: middle;\n",
       "    }\n",
       "\n",
       "    .dataframe tbody tr th {\n",
       "        vertical-align: top;\n",
       "    }\n",
       "\n",
       "    .dataframe thead th {\n",
       "        text-align: right;\n",
       "    }\n",
       "</style>\n",
       "<table border=\"1\" class=\"dataframe\">\n",
       "  <thead>\n",
       "    <tr style=\"text-align: right;\">\n",
       "      <th></th>\n",
       "      <th>days_to_birth</th>\n",
       "      <th>gender</th>\n",
       "      <th>height</th>\n",
       "      <th>weight</th>\n",
       "      <th>country_of_procurement</th>\n",
       "      <th>other_dx</th>\n",
       "      <th>person_neoplasm_cancer_status</th>\n",
       "      <th>vital_status</th>\n",
       "      <th>tobacco_smoking_history</th>\n",
       "      <th>alcohol_history_documented</th>\n",
       "      <th>...</th>\n",
       "      <th>stage_event_system_version</th>\n",
       "      <th>stage_event_tnm_categories</th>\n",
       "      <th>primary_pathology_esophageal_tumor_cental_location</th>\n",
       "      <th>primary_pathology_esophageal_tumor_involvement_sites</th>\n",
       "      <th>primary_pathology_histological_type</th>\n",
       "      <th>primary_pathology_neoplasm_histologic_grade</th>\n",
       "      <th>primary_pathology_age_at_initial_pathologic_diagnosis</th>\n",
       "      <th>primary_pathology_year_of_initial_pathologic_diagnosis</th>\n",
       "      <th>primary_pathology_initial_pathologic_diagnosis_method</th>\n",
       "      <th>primary_pathology_primary_lymph_node_presentation_assessment</th>\n",
       "    </tr>\n",
       "  </thead>\n",
       "  <tbody>\n",
       "    <tr>\n",
       "      <th>0</th>\n",
       "      <td>-24487</td>\n",
       "      <td>0</td>\n",
       "      <td>183.0</td>\n",
       "      <td>95.0</td>\n",
       "      <td>0</td>\n",
       "      <td>0</td>\n",
       "      <td>0</td>\n",
       "      <td>0</td>\n",
       "      <td>2.32614</td>\n",
       "      <td>0</td>\n",
       "      <td>...</td>\n",
       "      <td>0</td>\n",
       "      <td>0</td>\n",
       "      <td>0</td>\n",
       "      <td>0</td>\n",
       "      <td>0</td>\n",
       "      <td>0</td>\n",
       "      <td>67</td>\n",
       "      <td>0</td>\n",
       "      <td>0</td>\n",
       "      <td>0</td>\n",
       "    </tr>\n",
       "    <tr>\n",
       "      <th>1</th>\n",
       "      <td>-24328</td>\n",
       "      <td>0</td>\n",
       "      <td>178.0</td>\n",
       "      <td>74.0</td>\n",
       "      <td>0</td>\n",
       "      <td>0</td>\n",
       "      <td>0</td>\n",
       "      <td>0</td>\n",
       "      <td>2.32614</td>\n",
       "      <td>0</td>\n",
       "      <td>...</td>\n",
       "      <td>0</td>\n",
       "      <td>0</td>\n",
       "      <td>0</td>\n",
       "      <td>0</td>\n",
       "      <td>0</td>\n",
       "      <td>1</td>\n",
       "      <td>66</td>\n",
       "      <td>1</td>\n",
       "      <td>0</td>\n",
       "      <td>0</td>\n",
       "    </tr>\n",
       "    <tr>\n",
       "      <th>2</th>\n",
       "      <td>-16197</td>\n",
       "      <td>0</td>\n",
       "      <td>183.0</td>\n",
       "      <td>91.0</td>\n",
       "      <td>0</td>\n",
       "      <td>0</td>\n",
       "      <td>0</td>\n",
       "      <td>0</td>\n",
       "      <td>2.32614</td>\n",
       "      <td>0</td>\n",
       "      <td>...</td>\n",
       "      <td>0</td>\n",
       "      <td>1</td>\n",
       "      <td>0</td>\n",
       "      <td>0</td>\n",
       "      <td>0</td>\n",
       "      <td>1</td>\n",
       "      <td>44</td>\n",
       "      <td>2</td>\n",
       "      <td>0</td>\n",
       "      <td>0</td>\n",
       "    </tr>\n",
       "    <tr>\n",
       "      <th>3</th>\n",
       "      <td>-25097</td>\n",
       "      <td>0</td>\n",
       "      <td>188.0</td>\n",
       "      <td>100.0</td>\n",
       "      <td>0</td>\n",
       "      <td>0</td>\n",
       "      <td>0</td>\n",
       "      <td>0</td>\n",
       "      <td>2.32614</td>\n",
       "      <td>0</td>\n",
       "      <td>...</td>\n",
       "      <td>0</td>\n",
       "      <td>0</td>\n",
       "      <td>0</td>\n",
       "      <td>0</td>\n",
       "      <td>0</td>\n",
       "      <td>1</td>\n",
       "      <td>68</td>\n",
       "      <td>1</td>\n",
       "      <td>0</td>\n",
       "      <td>0</td>\n",
       "    </tr>\n",
       "    <tr>\n",
       "      <th>4</th>\n",
       "      <td>-21180</td>\n",
       "      <td>0</td>\n",
       "      <td>189.0</td>\n",
       "      <td>70.0</td>\n",
       "      <td>0</td>\n",
       "      <td>0</td>\n",
       "      <td>0</td>\n",
       "      <td>0</td>\n",
       "      <td>2.32614</td>\n",
       "      <td>0</td>\n",
       "      <td>...</td>\n",
       "      <td>0</td>\n",
       "      <td>2</td>\n",
       "      <td>0</td>\n",
       "      <td>0</td>\n",
       "      <td>0</td>\n",
       "      <td>1</td>\n",
       "      <td>57</td>\n",
       "      <td>3</td>\n",
       "      <td>0</td>\n",
       "      <td>0</td>\n",
       "    </tr>\n",
       "  </tbody>\n",
       "</table>\n",
       "<p>5 rows × 27 columns</p>\n",
       "</div>"
      ],
      "text/plain": [
       "   days_to_birth  gender  height  weight  country_of_procurement  other_dx  \\\n",
       "0         -24487       0   183.0    95.0                       0         0   \n",
       "1         -24328       0   178.0    74.0                       0         0   \n",
       "2         -16197       0   183.0    91.0                       0         0   \n",
       "3         -25097       0   188.0   100.0                       0         0   \n",
       "4         -21180       0   189.0    70.0                       0         0   \n",
       "\n",
       "   person_neoplasm_cancer_status  vital_status  tobacco_smoking_history  \\\n",
       "0                              0             0                  2.32614   \n",
       "1                              0             0                  2.32614   \n",
       "2                              0             0                  2.32614   \n",
       "3                              0             0                  2.32614   \n",
       "4                              0             0                  2.32614   \n",
       "\n",
       "   alcohol_history_documented  ...  stage_event_system_version  \\\n",
       "0                           0  ...                           0   \n",
       "1                           0  ...                           0   \n",
       "2                           0  ...                           0   \n",
       "3                           0  ...                           0   \n",
       "4                           0  ...                           0   \n",
       "\n",
       "   stage_event_tnm_categories  \\\n",
       "0                           0   \n",
       "1                           0   \n",
       "2                           1   \n",
       "3                           0   \n",
       "4                           2   \n",
       "\n",
       "   primary_pathology_esophageal_tumor_cental_location  \\\n",
       "0                                                  0    \n",
       "1                                                  0    \n",
       "2                                                  0    \n",
       "3                                                  0    \n",
       "4                                                  0    \n",
       "\n",
       "   primary_pathology_esophageal_tumor_involvement_sites  \\\n",
       "0                                                  0      \n",
       "1                                                  0      \n",
       "2                                                  0      \n",
       "3                                                  0      \n",
       "4                                                  0      \n",
       "\n",
       "   primary_pathology_histological_type  \\\n",
       "0                                    0   \n",
       "1                                    0   \n",
       "2                                    0   \n",
       "3                                    0   \n",
       "4                                    0   \n",
       "\n",
       "   primary_pathology_neoplasm_histologic_grade  \\\n",
       "0                                            0   \n",
       "1                                            1   \n",
       "2                                            1   \n",
       "3                                            1   \n",
       "4                                            1   \n",
       "\n",
       "   primary_pathology_age_at_initial_pathologic_diagnosis  \\\n",
       "0                                                 67       \n",
       "1                                                 66       \n",
       "2                                                 44       \n",
       "3                                                 68       \n",
       "4                                                 57       \n",
       "\n",
       "   primary_pathology_year_of_initial_pathologic_diagnosis  \\\n",
       "0                                                  0        \n",
       "1                                                  1        \n",
       "2                                                  2        \n",
       "3                                                  1        \n",
       "4                                                  3        \n",
       "\n",
       "   primary_pathology_initial_pathologic_diagnosis_method  \\\n",
       "0                                                  0       \n",
       "1                                                  0       \n",
       "2                                                  0       \n",
       "3                                                  0       \n",
       "4                                                  0       \n",
       "\n",
       "   primary_pathology_primary_lymph_node_presentation_assessment  \n",
       "0                                                  0             \n",
       "1                                                  0             \n",
       "2                                                  0             \n",
       "3                                                  0             \n",
       "4                                                  0             \n",
       "\n",
       "[5 rows x 27 columns]"
      ]
     },
     "execution_count": 21,
     "metadata": {},
     "output_type": "execute_result"
    }
   ],
   "source": [
    "df.head()"
   ]
  },
  {
   "cell_type": "code",
   "execution_count": 22,
   "id": "8c1d5523",
   "metadata": {
    "execution": {
     "iopub.execute_input": "2024-10-15T08:18:16.755369Z",
     "iopub.status.busy": "2024-10-15T08:18:16.754931Z",
     "iopub.status.idle": "2024-10-15T08:18:16.839222Z",
     "shell.execute_reply": "2024-10-15T08:18:16.837983Z"
    },
    "papermill": {
     "duration": 0.104294,
     "end_time": "2024-10-15T08:18:16.843073",
     "exception": false,
     "start_time": "2024-10-15T08:18:16.738779",
     "status": "completed"
    },
    "tags": []
   },
   "outputs": [
    {
     "data": {
      "text/html": [
       "<div>\n",
       "<style scoped>\n",
       "    .dataframe tbody tr th:only-of-type {\n",
       "        vertical-align: middle;\n",
       "    }\n",
       "\n",
       "    .dataframe tbody tr th {\n",
       "        vertical-align: top;\n",
       "    }\n",
       "\n",
       "    .dataframe thead th {\n",
       "        text-align: right;\n",
       "    }\n",
       "</style>\n",
       "<table border=\"1\" class=\"dataframe\">\n",
       "  <thead>\n",
       "    <tr style=\"text-align: right;\">\n",
       "      <th></th>\n",
       "      <th>days_to_birth</th>\n",
       "      <th>gender</th>\n",
       "      <th>height</th>\n",
       "      <th>weight</th>\n",
       "      <th>country_of_procurement</th>\n",
       "      <th>other_dx</th>\n",
       "      <th>person_neoplasm_cancer_status</th>\n",
       "      <th>vital_status</th>\n",
       "      <th>tobacco_smoking_history</th>\n",
       "      <th>alcohol_history_documented</th>\n",
       "      <th>...</th>\n",
       "      <th>stage_event_system_version</th>\n",
       "      <th>stage_event_tnm_categories</th>\n",
       "      <th>primary_pathology_esophageal_tumor_cental_location</th>\n",
       "      <th>primary_pathology_esophageal_tumor_involvement_sites</th>\n",
       "      <th>primary_pathology_histological_type</th>\n",
       "      <th>primary_pathology_neoplasm_histologic_grade</th>\n",
       "      <th>primary_pathology_age_at_initial_pathologic_diagnosis</th>\n",
       "      <th>primary_pathology_year_of_initial_pathologic_diagnosis</th>\n",
       "      <th>primary_pathology_initial_pathologic_diagnosis_method</th>\n",
       "      <th>primary_pathology_primary_lymph_node_presentation_assessment</th>\n",
       "    </tr>\n",
       "  </thead>\n",
       "  <tbody>\n",
       "    <tr>\n",
       "      <th>count</th>\n",
       "      <td>3650.000000</td>\n",
       "      <td>3650.000000</td>\n",
       "      <td>3650.000000</td>\n",
       "      <td>3650.000000</td>\n",
       "      <td>3650.000000</td>\n",
       "      <td>3650.000000</td>\n",
       "      <td>3650.000000</td>\n",
       "      <td>3650.000000</td>\n",
       "      <td>3650.000000</td>\n",
       "      <td>3650.000000</td>\n",
       "      <td>...</td>\n",
       "      <td>3650.000000</td>\n",
       "      <td>3650.000000</td>\n",
       "      <td>3650.000000</td>\n",
       "      <td>3650.000000</td>\n",
       "      <td>3650.000000</td>\n",
       "      <td>3650.000000</td>\n",
       "      <td>3650.000000</td>\n",
       "      <td>3650.000000</td>\n",
       "      <td>3650.000000</td>\n",
       "      <td>3650.000000</td>\n",
       "    </tr>\n",
       "    <tr>\n",
       "      <th>mean</th>\n",
       "      <td>-22980.244110</td>\n",
       "      <td>0.147397</td>\n",
       "      <td>172.145559</td>\n",
       "      <td>74.577686</td>\n",
       "      <td>2.980822</td>\n",
       "      <td>0.106849</td>\n",
       "      <td>0.612329</td>\n",
       "      <td>0.672055</td>\n",
       "      <td>2.326140</td>\n",
       "      <td>0.731781</td>\n",
       "      <td>...</td>\n",
       "      <td>1.219452</td>\n",
       "      <td>12.667671</td>\n",
       "      <td>0.355616</td>\n",
       "      <td>0.476164</td>\n",
       "      <td>0.530685</td>\n",
       "      <td>1.158082</td>\n",
       "      <td>62.428493</td>\n",
       "      <td>6.567945</td>\n",
       "      <td>1.021370</td>\n",
       "      <td>0.443836</td>\n",
       "    </tr>\n",
       "    <tr>\n",
       "      <th>std</th>\n",
       "      <td>4348.093538</td>\n",
       "      <td>0.354550</td>\n",
       "      <td>8.840043</td>\n",
       "      <td>17.315773</td>\n",
       "      <td>2.477006</td>\n",
       "      <td>0.308964</td>\n",
       "      <td>0.487286</td>\n",
       "      <td>0.469529</td>\n",
       "      <td>1.097476</td>\n",
       "      <td>0.478766</td>\n",
       "      <td>...</td>\n",
       "      <td>0.674725</td>\n",
       "      <td>12.582748</td>\n",
       "      <td>0.572602</td>\n",
       "      <td>0.849036</td>\n",
       "      <td>0.499126</td>\n",
       "      <td>0.924942</td>\n",
       "      <td>11.937696</td>\n",
       "      <td>3.972903</td>\n",
       "      <td>0.709396</td>\n",
       "      <td>0.780164</td>\n",
       "    </tr>\n",
       "    <tr>\n",
       "      <th>min</th>\n",
       "      <td>-32972.000000</td>\n",
       "      <td>0.000000</td>\n",
       "      <td>145.000000</td>\n",
       "      <td>41.000000</td>\n",
       "      <td>0.000000</td>\n",
       "      <td>0.000000</td>\n",
       "      <td>0.000000</td>\n",
       "      <td>0.000000</td>\n",
       "      <td>1.000000</td>\n",
       "      <td>0.000000</td>\n",
       "      <td>...</td>\n",
       "      <td>0.000000</td>\n",
       "      <td>0.000000</td>\n",
       "      <td>0.000000</td>\n",
       "      <td>0.000000</td>\n",
       "      <td>0.000000</td>\n",
       "      <td>0.000000</td>\n",
       "      <td>27.000000</td>\n",
       "      <td>0.000000</td>\n",
       "      <td>0.000000</td>\n",
       "      <td>0.000000</td>\n",
       "    </tr>\n",
       "    <tr>\n",
       "      <th>25%</th>\n",
       "      <td>-26347.500000</td>\n",
       "      <td>0.000000</td>\n",
       "      <td>167.000000</td>\n",
       "      <td>62.000000</td>\n",
       "      <td>1.000000</td>\n",
       "      <td>0.000000</td>\n",
       "      <td>0.000000</td>\n",
       "      <td>0.000000</td>\n",
       "      <td>1.000000</td>\n",
       "      <td>0.000000</td>\n",
       "      <td>...</td>\n",
       "      <td>1.000000</td>\n",
       "      <td>4.000000</td>\n",
       "      <td>0.000000</td>\n",
       "      <td>0.000000</td>\n",
       "      <td>0.000000</td>\n",
       "      <td>0.000000</td>\n",
       "      <td>54.000000</td>\n",
       "      <td>4.000000</td>\n",
       "      <td>1.000000</td>\n",
       "      <td>0.000000</td>\n",
       "    </tr>\n",
       "    <tr>\n",
       "      <th>50%</th>\n",
       "      <td>-22163.500000</td>\n",
       "      <td>0.000000</td>\n",
       "      <td>172.145559</td>\n",
       "      <td>72.000000</td>\n",
       "      <td>2.000000</td>\n",
       "      <td>0.000000</td>\n",
       "      <td>1.000000</td>\n",
       "      <td>1.000000</td>\n",
       "      <td>2.000000</td>\n",
       "      <td>1.000000</td>\n",
       "      <td>...</td>\n",
       "      <td>1.000000</td>\n",
       "      <td>8.000000</td>\n",
       "      <td>0.000000</td>\n",
       "      <td>0.000000</td>\n",
       "      <td>1.000000</td>\n",
       "      <td>1.000000</td>\n",
       "      <td>60.000000</td>\n",
       "      <td>6.000000</td>\n",
       "      <td>1.000000</td>\n",
       "      <td>0.000000</td>\n",
       "    </tr>\n",
       "    <tr>\n",
       "      <th>75%</th>\n",
       "      <td>-19818.250000</td>\n",
       "      <td>0.000000</td>\n",
       "      <td>178.000000</td>\n",
       "      <td>85.000000</td>\n",
       "      <td>4.000000</td>\n",
       "      <td>0.000000</td>\n",
       "      <td>1.000000</td>\n",
       "      <td>1.000000</td>\n",
       "      <td>3.000000</td>\n",
       "      <td>1.000000</td>\n",
       "      <td>...</td>\n",
       "      <td>2.000000</td>\n",
       "      <td>22.000000</td>\n",
       "      <td>1.000000</td>\n",
       "      <td>1.000000</td>\n",
       "      <td>1.000000</td>\n",
       "      <td>2.000000</td>\n",
       "      <td>72.000000</td>\n",
       "      <td>10.000000</td>\n",
       "      <td>1.000000</td>\n",
       "      <td>1.000000</td>\n",
       "    </tr>\n",
       "    <tr>\n",
       "      <th>max</th>\n",
       "      <td>-10143.000000</td>\n",
       "      <td>1.000000</td>\n",
       "      <td>202.000000</td>\n",
       "      <td>138.000000</td>\n",
       "      <td>9.000000</td>\n",
       "      <td>1.000000</td>\n",
       "      <td>1.000000</td>\n",
       "      <td>1.000000</td>\n",
       "      <td>4.000000</td>\n",
       "      <td>2.000000</td>\n",
       "      <td>...</td>\n",
       "      <td>2.000000</td>\n",
       "      <td>48.000000</td>\n",
       "      <td>3.000000</td>\n",
       "      <td>5.000000</td>\n",
       "      <td>1.000000</td>\n",
       "      <td>3.000000</td>\n",
       "      <td>90.000000</td>\n",
       "      <td>15.000000</td>\n",
       "      <td>3.000000</td>\n",
       "      <td>2.000000</td>\n",
       "    </tr>\n",
       "  </tbody>\n",
       "</table>\n",
       "<p>8 rows × 27 columns</p>\n",
       "</div>"
      ],
      "text/plain": [
       "       days_to_birth       gender       height       weight  \\\n",
       "count    3650.000000  3650.000000  3650.000000  3650.000000   \n",
       "mean   -22980.244110     0.147397   172.145559    74.577686   \n",
       "std      4348.093538     0.354550     8.840043    17.315773   \n",
       "min    -32972.000000     0.000000   145.000000    41.000000   \n",
       "25%    -26347.500000     0.000000   167.000000    62.000000   \n",
       "50%    -22163.500000     0.000000   172.145559    72.000000   \n",
       "75%    -19818.250000     0.000000   178.000000    85.000000   \n",
       "max    -10143.000000     1.000000   202.000000   138.000000   \n",
       "\n",
       "       country_of_procurement     other_dx  person_neoplasm_cancer_status  \\\n",
       "count             3650.000000  3650.000000                    3650.000000   \n",
       "mean                 2.980822     0.106849                       0.612329   \n",
       "std                  2.477006     0.308964                       0.487286   \n",
       "min                  0.000000     0.000000                       0.000000   \n",
       "25%                  1.000000     0.000000                       0.000000   \n",
       "50%                  2.000000     0.000000                       1.000000   \n",
       "75%                  4.000000     0.000000                       1.000000   \n",
       "max                  9.000000     1.000000                       1.000000   \n",
       "\n",
       "       vital_status  tobacco_smoking_history  alcohol_history_documented  ...  \\\n",
       "count   3650.000000              3650.000000                 3650.000000  ...   \n",
       "mean       0.672055                 2.326140                    0.731781  ...   \n",
       "std        0.469529                 1.097476                    0.478766  ...   \n",
       "min        0.000000                 1.000000                    0.000000  ...   \n",
       "25%        0.000000                 1.000000                    0.000000  ...   \n",
       "50%        1.000000                 2.000000                    1.000000  ...   \n",
       "75%        1.000000                 3.000000                    1.000000  ...   \n",
       "max        1.000000                 4.000000                    2.000000  ...   \n",
       "\n",
       "       stage_event_system_version  stage_event_tnm_categories  \\\n",
       "count                 3650.000000                 3650.000000   \n",
       "mean                     1.219452                   12.667671   \n",
       "std                      0.674725                   12.582748   \n",
       "min                      0.000000                    0.000000   \n",
       "25%                      1.000000                    4.000000   \n",
       "50%                      1.000000                    8.000000   \n",
       "75%                      2.000000                   22.000000   \n",
       "max                      2.000000                   48.000000   \n",
       "\n",
       "       primary_pathology_esophageal_tumor_cental_location  \\\n",
       "count                                        3650.000000    \n",
       "mean                                            0.355616    \n",
       "std                                             0.572602    \n",
       "min                                             0.000000    \n",
       "25%                                             0.000000    \n",
       "50%                                             0.000000    \n",
       "75%                                             1.000000    \n",
       "max                                             3.000000    \n",
       "\n",
       "       primary_pathology_esophageal_tumor_involvement_sites  \\\n",
       "count                                        3650.000000      \n",
       "mean                                            0.476164      \n",
       "std                                             0.849036      \n",
       "min                                             0.000000      \n",
       "25%                                             0.000000      \n",
       "50%                                             0.000000      \n",
       "75%                                             1.000000      \n",
       "max                                             5.000000      \n",
       "\n",
       "       primary_pathology_histological_type  \\\n",
       "count                          3650.000000   \n",
       "mean                              0.530685   \n",
       "std                               0.499126   \n",
       "min                               0.000000   \n",
       "25%                               0.000000   \n",
       "50%                               1.000000   \n",
       "75%                               1.000000   \n",
       "max                               1.000000   \n",
       "\n",
       "       primary_pathology_neoplasm_histologic_grade  \\\n",
       "count                                  3650.000000   \n",
       "mean                                      1.158082   \n",
       "std                                       0.924942   \n",
       "min                                       0.000000   \n",
       "25%                                       0.000000   \n",
       "50%                                       1.000000   \n",
       "75%                                       2.000000   \n",
       "max                                       3.000000   \n",
       "\n",
       "       primary_pathology_age_at_initial_pathologic_diagnosis  \\\n",
       "count                                        3650.000000       \n",
       "mean                                           62.428493       \n",
       "std                                            11.937696       \n",
       "min                                            27.000000       \n",
       "25%                                            54.000000       \n",
       "50%                                            60.000000       \n",
       "75%                                            72.000000       \n",
       "max                                            90.000000       \n",
       "\n",
       "       primary_pathology_year_of_initial_pathologic_diagnosis  \\\n",
       "count                                        3650.000000        \n",
       "mean                                            6.567945        \n",
       "std                                             3.972903        \n",
       "min                                             0.000000        \n",
       "25%                                             4.000000        \n",
       "50%                                             6.000000        \n",
       "75%                                            10.000000        \n",
       "max                                            15.000000        \n",
       "\n",
       "       primary_pathology_initial_pathologic_diagnosis_method  \\\n",
       "count                                        3650.000000       \n",
       "mean                                            1.021370       \n",
       "std                                             0.709396       \n",
       "min                                             0.000000       \n",
       "25%                                             1.000000       \n",
       "50%                                             1.000000       \n",
       "75%                                             1.000000       \n",
       "max                                             3.000000       \n",
       "\n",
       "       primary_pathology_primary_lymph_node_presentation_assessment  \n",
       "count                                        3650.000000             \n",
       "mean                                            0.443836             \n",
       "std                                             0.780164             \n",
       "min                                             0.000000             \n",
       "25%                                             0.000000             \n",
       "50%                                             0.000000             \n",
       "75%                                             1.000000             \n",
       "max                                             2.000000             \n",
       "\n",
       "[8 rows x 27 columns]"
      ]
     },
     "execution_count": 22,
     "metadata": {},
     "output_type": "execute_result"
    }
   ],
   "source": [
    "df.describe()"
   ]
  },
  {
   "cell_type": "code",
   "execution_count": 23,
   "id": "1b034913",
   "metadata": {
    "execution": {
     "iopub.execute_input": "2024-10-15T08:18:16.876995Z",
     "iopub.status.busy": "2024-10-15T08:18:16.876541Z",
     "iopub.status.idle": "2024-10-15T08:18:16.895388Z",
     "shell.execute_reply": "2024-10-15T08:18:16.894237Z"
    },
    "papermill": {
     "duration": 0.039443,
     "end_time": "2024-10-15T08:18:16.899088",
     "exception": false,
     "start_time": "2024-10-15T08:18:16.859645",
     "status": "completed"
    },
    "tags": []
   },
   "outputs": [
    {
     "name": "stdout",
     "output_type": "stream",
     "text": [
      "days_to_birth\n",
      "max: -10143\n",
      "min: -32972\n",
      "width: 22829\n",
      "variance: 18900737.707807768\n",
      "median: -22163.5\n",
      "***\n",
      "gender\n",
      "max: 1\n",
      "min: 0\n",
      "width: 1\n",
      "variance: 0.12567130793769937\n",
      "median: 0.0\n",
      "***\n",
      "height\n",
      "max: 202.0\n",
      "min: 145.0\n",
      "width: 57.0\n",
      "variance: 78.1249468932763\n",
      "median: 172.14555873925502\n",
      "***\n",
      "weight\n",
      "max: 138.0\n",
      "min: 41.0\n",
      "width: 97.0\n",
      "variance: 299.7538609758859\n",
      "median: 72.0\n",
      "***\n",
      "country_of_procurement\n",
      "max: 9\n",
      "min: 0\n",
      "width: 9\n",
      "variance: 6.133878776505911\n",
      "median: 2.0\n",
      "***\n",
      "other_dx\n",
      "max: 1\n",
      "min: 0\n",
      "width: 1\n",
      "variance: 0.09543253893788702\n",
      "median: 0.0\n",
      "***\n",
      "person_neoplasm_cancer_status\n",
      "max: 1\n",
      "min: 0\n",
      "width: 1\n",
      "variance: 0.23738224807656216\n",
      "median: 1.0\n",
      "***\n",
      "vital_status\n",
      "max: 1\n",
      "min: 0\n",
      "width: 1\n",
      "variance: 0.22039714768249205\n",
      "median: 1.0\n",
      "***\n",
      "tobacco_smoking_history\n",
      "max: 4.0\n",
      "min: 1.0\n",
      "width: 3.0\n",
      "variance: 1.2041238289544904\n",
      "median: 2.0\n",
      "***\n",
      "alcohol_history_documented\n",
      "max: 2\n",
      "min: 0\n",
      "width: 2\n",
      "variance: 0.2291543629198724\n",
      "median: 1.0\n",
      "***\n",
      "has_new_tumor_events_information\n",
      "max: 1\n",
      "min: 0\n",
      "width: 1\n",
      "variance: 0.24075241133420902\n",
      "median: 1.0\n",
      "***\n",
      "day_of_form_completion\n",
      "max: 30\n",
      "min: 1\n",
      "width: 29\n",
      "variance: 65.9284765622068\n",
      "median: 16.0\n",
      "***\n",
      "month_of_form_completion\n",
      "max: 12\n",
      "min: 1\n",
      "width: 11\n",
      "variance: 14.00861129667855\n",
      "median: 3.0\n",
      "***\n",
      "year_of_form_completion\n",
      "max: 2015\n",
      "min: 2012\n",
      "width: 3\n",
      "variance: 0.356278851566898\n",
      "median: 2014.0\n",
      "***\n",
      "has_follow_ups_information\n",
      "max: 1\n",
      "min: 0\n",
      "width: 1\n",
      "variance: 0.19107742540814415\n",
      "median: 1.0\n",
      "***\n",
      "has_drugs_information\n",
      "max: 1\n",
      "min: 0\n",
      "width: 1\n",
      "variance: 0.17702600863201354\n",
      "median: 0.0\n",
      "***\n",
      "has_radiations_information\n",
      "max: 1\n",
      "min: 0\n",
      "width: 1\n",
      "variance: 0.19878768999812343\n",
      "median: 0.0\n",
      "***\n",
      "stage_event_system_version\n",
      "max: 2\n",
      "min: 0\n",
      "width: 2\n",
      "variance: 0.45512846687933944\n",
      "median: 1.0\n",
      "***\n",
      "stage_event_tnm_categories\n",
      "max: 48\n",
      "min: 0\n",
      "width: 48\n",
      "variance: 158.2821603302683\n",
      "median: 8.0\n",
      "***\n",
      "primary_pathology_esophageal_tumor_cental_location\n",
      "max: 3\n",
      "min: 0\n",
      "width: 3\n",
      "variance: 0.3277835241133421\n",
      "median: 0.0\n",
      "***\n",
      "primary_pathology_esophageal_tumor_involvement_sites\n",
      "max: 5\n",
      "min: 0\n",
      "width: 5\n",
      "variance: 0.7206647401013325\n",
      "median: 0.0\n",
      "***\n",
      "primary_pathology_histological_type\n",
      "max: 1\n",
      "min: 0\n",
      "width: 1\n",
      "variance: 0.2490584349784199\n",
      "median: 1.0\n",
      "***\n",
      "primary_pathology_neoplasm_histologic_grade\n",
      "max: 3\n",
      "min: 0\n",
      "width: 3\n",
      "variance: 0.8552839932445112\n",
      "median: 1.0\n",
      "***\n",
      "primary_pathology_age_at_initial_pathologic_diagnosis\n",
      "max: 90\n",
      "min: 27\n",
      "width: 63\n",
      "variance: 142.4695443047476\n",
      "median: 60.0\n",
      "***\n",
      "primary_pathology_year_of_initial_pathologic_diagnosis\n",
      "max: 15\n",
      "min: 0\n",
      "width: 15\n",
      "variance: 15.779630024394823\n",
      "median: 6.0\n",
      "***\n",
      "primary_pathology_initial_pathologic_diagnosis_method\n",
      "max: 3\n",
      "min: 0\n",
      "width: 3\n",
      "variance: 0.5031049727903923\n",
      "median: 1.0\n",
      "***\n",
      "primary_pathology_primary_lymph_node_presentation_assessment\n",
      "max: 2\n",
      "min: 0\n",
      "width: 2\n",
      "variance: 0.6084893976355789\n",
      "median: 0.0\n",
      "***\n"
     ]
    }
   ],
   "source": [
    "from wolta.data_tools import stat_sum\n",
    "\n",
    "stat_sum(df,\n",
    "        ['max', 'min', 'width', 'var', 'med'])"
   ]
  },
  {
   "cell_type": "code",
   "execution_count": 24,
   "id": "6d81acc8",
   "metadata": {
    "execution": {
     "iopub.execute_input": "2024-10-15T08:18:16.933556Z",
     "iopub.status.busy": "2024-10-15T08:18:16.933135Z",
     "iopub.status.idle": "2024-10-15T08:18:17.130193Z",
     "shell.execute_reply": "2024-10-15T08:18:17.129036Z"
    },
    "papermill": {
     "duration": 0.218917,
     "end_time": "2024-10-15T08:18:17.134051",
     "exception": false,
     "start_time": "2024-10-15T08:18:16.915134",
     "status": "completed"
    },
    "tags": []
   },
   "outputs": [
    {
     "data": {
      "text/plain": [
       "<Axes: ylabel='count'>"
      ]
     },
     "execution_count": 24,
     "metadata": {},
     "output_type": "execute_result"
    },
    {
     "data": {
      "image/png": "[encoded data removed]",
      "text/plain": [
       "<Figure size 640x480 with 1 Axes>"
      ]
     },
     "metadata": {},
     "output_type": "display_data"
    }
   ],
   "source": [
    "df['person_neoplasm_cancer_status'].value_counts().plot(kind='pie')"
   ]
  },
  {
   "cell_type": "markdown",
   "id": "15afbafc",
   "metadata": {
    "papermill": {
     "duration": 0.025749,
     "end_time": "2024-10-15T08:18:17.195069",
     "exception": false,
     "start_time": "2024-10-15T08:18:17.169320",
     "status": "completed"
    },
    "tags": []
   },
   "source": [
    "# Data Preparation"
   ]
  },
  {
   "cell_type": "code",
   "execution_count": 25,
   "id": "af2ecbca",
   "metadata": {
    "execution": {
     "iopub.execute_input": "2024-10-15T08:18:17.230024Z",
     "iopub.status.busy": "2024-10-15T08:18:17.229104Z",
     "iopub.status.idle": "2024-10-15T08:18:17.236700Z",
     "shell.execute_reply": "2024-10-15T08:18:17.235536Z"
    },
    "papermill": {
     "duration": 0.027703,
     "end_time": "2024-10-15T08:18:17.239308",
     "exception": false,
     "start_time": "2024-10-15T08:18:17.211605",
     "status": "completed"
    },
    "tags": []
   },
   "outputs": [],
   "source": [
    "y = df['person_neoplasm_cancer_status'].values\n",
    "del df['person_neoplasm_cancer_status']\n",
    "X = df.values\n",
    "del df"
   ]
  },
  {
   "cell_type": "code",
   "execution_count": 26,
   "id": "7e3f085a",
   "metadata": {
    "execution": {
     "iopub.execute_input": "2024-10-15T08:18:17.273865Z",
     "iopub.status.busy": "2024-10-15T08:18:17.273418Z",
     "iopub.status.idle": "2024-10-15T08:18:18.893775Z",
     "shell.execute_reply": "2024-10-15T08:18:18.892381Z"
    },
    "papermill": {
     "duration": 1.641161,
     "end_time": "2024-10-15T08:18:18.897045",
     "exception": false,
     "start_time": "2024-10-15T08:18:17.255884",
     "status": "completed"
    },
    "tags": []
   },
   "outputs": [],
   "source": [
    "from sklearn.model_selection import train_test_split\n",
    "\n",
    "X_train, X_test, y_train, y_test = train_test_split(X, y, test_size=0.2, random_state=42, stratify=y)\n",
    "del X, y"
   ]
  },
  {
   "cell_type": "code",
   "execution_count": 27,
   "id": "1ce2d97b",
   "metadata": {
    "execution": {
     "iopub.execute_input": "2024-10-15T08:18:18.933279Z",
     "iopub.status.busy": "2024-10-15T08:18:18.932463Z",
     "iopub.status.idle": "2024-10-15T08:18:18.941346Z",
     "shell.execute_reply": "2024-10-15T08:18:18.940129Z"
    },
    "papermill": {
     "duration": 0.030121,
     "end_time": "2024-10-15T08:18:18.944057",
     "exception": false,
     "start_time": "2024-10-15T08:18:18.913936",
     "status": "completed"
    },
    "tags": []
   },
   "outputs": [
    {
     "name": "stdout",
     "output_type": "stream",
     "text": [
      "Counter({1: 1788, 0: 1132})\n",
      "Counter({1: 447, 0: 283})\n"
     ]
    }
   ],
   "source": [
    "from collections import Counter\n",
    "\n",
    "print(Counter(y_train))\n",
    "print(Counter(y_test))"
   ]
  },
  {
   "cell_type": "markdown",
   "id": "55759ab1",
   "metadata": {
    "papermill": {
     "duration": 0.017045,
     "end_time": "2024-10-15T08:18:18.978629",
     "exception": false,
     "start_time": "2024-10-15T08:18:18.961584",
     "status": "completed"
    },
    "tags": []
   },
   "source": [
    "# Model"
   ]
  },
  {
   "cell_type": "code",
   "execution_count": 28,
   "id": "4421399f",
   "metadata": {
    "execution": {
     "iopub.execute_input": "2024-10-15T08:18:19.015413Z",
     "iopub.status.busy": "2024-10-15T08:18:19.014365Z",
     "iopub.status.idle": "2024-10-15T08:18:24.871129Z",
     "shell.execute_reply": "2024-10-15T08:18:24.869469Z"
    },
    "papermill": {
     "duration": 5.879603,
     "end_time": "2024-10-15T08:18:24.875556",
     "exception": false,
     "start_time": "2024-10-15T08:18:18.995953",
     "status": "completed"
    },
    "tags": []
   },
   "outputs": [
    {
     "name": "stdout",
     "output_type": "stream",
     "text": [
      "AdaBoost\n",
      "Accuracy Score: 0.9547945205479452\n",
      "Precision Score: 0.9548223467126972\n",
      "F1 Score (weighted): 0.9546545821986032\n",
      "***\n",
      "CatBoost\n",
      "Accuracy Score: 1.0\n",
      "Precision Score: 1.0\n",
      "F1 Score (weighted): 1.0\n",
      "***\n",
      "LightGBM\n",
      "Accuracy Score: 1.0\n",
      "Precision Score: 1.0\n",
      "F1 Score (weighted): 1.0\n",
      "***\n",
      "Random Forest\n",
      "Accuracy Score: 1.0\n",
      "Precision Score: 1.0\n",
      "F1 Score (weighted): 1.0\n",
      "***\n",
      "Extra Tree\n",
      "Accuracy Score: 0.9945205479452055\n",
      "Precision Score: 0.9945291035496313\n",
      "F1 Score (weighted): 0.9945169480645651\n",
      "***\n",
      "Decision Tree\n",
      "Accuracy Score: 0.9972602739726028\n",
      "Precision Score: 0.9972795001201634\n",
      "F1 Score (weighted): 0.997262025992184\n",
      "***\n",
      "Ridge\n",
      "Accuracy Score: 0.8575342465753425\n",
      "Precision Score: 0.857023853969026\n",
      "F1 Score (weighted): 0.8561176185119007\n",
      "***\n",
      "Perceptron\n",
      "Accuracy Score: 0.5753424657534246\n",
      "Precision Score: 0.58269359743914\n",
      "F1 Score (weighted): 0.5783076373829799\n",
      "***\n"
     ]
    }
   ],
   "source": [
    "from wolta.model_tools import compare_models\n",
    "\n",
    "results = compare_models('clf',\n",
    "                        ['ada', 'cat', 'lbm', 'raf', 'ext', 'dtr', 'rdg', 'per'],\n",
    "                        ['acc', 'precision', 'f1'],\n",
    "                        X_train, y_train, X_test, y_test,\n",
    "                        get_result=True)"
   ]
  },
  {
   "cell_type": "code",
   "execution_count": 29,
   "id": "7d74558a",
   "metadata": {
    "execution": {
     "iopub.execute_input": "2024-10-15T08:18:24.981266Z",
     "iopub.status.busy": "2024-10-15T08:18:24.974661Z",
     "iopub.status.idle": "2024-10-15T08:18:27.546720Z",
     "shell.execute_reply": "2024-10-15T08:18:27.545372Z"
    },
    "papermill": {
     "duration": 2.621928,
     "end_time": "2024-10-15T08:18:27.549677",
     "exception": false,
     "start_time": "2024-10-15T08:18:24.927749",
     "status": "completed"
    },
    "tags": []
   },
   "outputs": [
    {
     "name": "stdout",
     "output_type": "stream",
     "text": [
      "Best Algorithm is cat with the score of 1.0\n"
     ]
    }
   ],
   "source": [
    "from wolta.model_tools import get_best_model\n",
    "\n",
    "model = get_best_model(results, 'acc', 'clf', X_train, y_train, behavior='max-best')\n",
    "y_pred = model.predict(X_test)"
   ]
  },
  {
   "cell_type": "code",
   "execution_count": 30,
   "id": "cdf9fef6",
   "metadata": {
    "execution": {
     "iopub.execute_input": "2024-10-15T08:18:27.590189Z",
     "iopub.status.busy": "2024-10-15T08:18:27.589636Z",
     "iopub.status.idle": "2024-10-15T08:18:27.609342Z",
     "shell.execute_reply": "2024-10-15T08:18:27.607589Z"
    },
    "papermill": {
     "duration": 0.040778,
     "end_time": "2024-10-15T08:18:27.612134",
     "exception": false,
     "start_time": "2024-10-15T08:18:27.571356",
     "status": "completed"
    },
    "tags": []
   },
   "outputs": [
    {
     "name": "stdout",
     "output_type": "stream",
     "text": [
      "              precision    recall  f1-score   support\n",
      "\n",
      "           0       1.00      1.00      1.00       283\n",
      "           1       1.00      1.00      1.00       447\n",
      "\n",
      "    accuracy                           1.00       730\n",
      "   macro avg       1.00      1.00      1.00       730\n",
      "weighted avg       1.00      1.00      1.00       730\n",
      "\n"
     ]
    }
   ],
   "source": [
    "from sklearn.metrics import classification_report as rep\n",
    "\n",
    "print(rep(y_test, y_pred))"
   ]
  },
  {
   "cell_type": "code",
   "execution_count": 31,
   "id": "58cda0f3",
   "metadata": {
    "execution": {
     "iopub.execute_input": "2024-10-15T08:18:27.649143Z",
     "iopub.status.busy": "2024-10-15T08:18:27.648297Z",
     "iopub.status.idle": "2024-10-15T08:18:28.041699Z",
     "shell.execute_reply": "2024-10-15T08:18:28.040307Z"
    },
    "papermill": {
     "duration": 0.414711,
     "end_time": "2024-10-15T08:18:28.044377",
     "exception": false,
     "start_time": "2024-10-15T08:18:27.629666",
     "status": "completed"
    },
    "tags": []
   },
   "outputs": [
    {
     "data": {
      "text/plain": [
       "<sklearn.metrics._plot.confusion_matrix.ConfusionMatrixDisplay at 0x7f3fedd2dab0>"
      ]
     },
     "execution_count": 31,
     "metadata": {},
     "output_type": "execute_result"
    },
    {
     "data": {
      "image/png": "[encoded data removed]",
      "text/plain": [
       "<Figure size 640x480 with 2 Axes>"
      ]
     },
     "metadata": {},
     "output_type": "display_data"
    }
   ],
   "source": [
    "from sklearn.metrics import confusion_matrix as conf\n",
    "from sklearn.metrics import ConfusionMatrixDisplay as cmd\n",
    "\n",
    "cm = conf(y_test, y_pred)\n",
    "disp = cmd(confusion_matrix=cm, display_labels=outs)\n",
    "disp.plot()"
   ]
  }
 ],
 "metadata": {
  "kaggle": {
   "accelerator": "none",
   "dataSources": [
    {
     "datasetId": 5875096,
     "sourceId": 9624910,
     "sourceType": "datasetVersion"
    }
   ],
   "dockerImageVersionId": 30786,
   "isGpuEnabled": false,
   "isInternetEnabled": true,
   "language": "python",
   "sourceType": "notebook"
  },
  "kernelspec": {
   "display_name": "Python 3",
   "language": "python",
   "name": "python3"
  },
  "language_info": {
   "codemirror_mode": {
    "name": "ipython",
    "version": 3
   },
   "file_extension": ".py",
   "mimetype": "text/x-python",
   "name": "python",
   "nbconvert_exporter": "python",
   "pygments_lexer": "ipython3",
   "version": "3.10.14"
  },
  "papermill": {
   "default_parameters": {},
   "duration": 33.266238,
   "end_time": "2024-10-15T08:18:28.884631",
   "environment_variables": {},
   "exception": null,
   "input_path": "__notebook__.ipynb",
   "output_path": "__notebook__.ipynb",
   "parameters": {},
   "start_time": "2024-10-15T08:17:55.618393",
   "version": "2.6.0"
  }
 },
 "nbformat": 4,
 "nbformat_minor": 5
}
